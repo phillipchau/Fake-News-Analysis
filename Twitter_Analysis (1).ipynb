{
  "nbformat": 4,
  "nbformat_minor": 0,
  "metadata": {
    "colab": {
      "name": "Twitter Analysis.ipynb",
      "provenance": [],
      "collapsed_sections": [],
      "toc_visible": true
    },
    "kernelspec": {
      "name": "python3",
      "display_name": "Python 3"
    },
    "language_info": {
      "name": "python"
    }
  },
  "cells": [
    {
      "cell_type": "markdown",
      "metadata": {
        "id": "FnA5aiCBg1JC"
      },
      "source": [
        "## Data Imports"
      ]
    },
    {
      "cell_type": "code",
      "metadata": {
        "colab": {
          "base_uri": "https://localhost:8080/"
        },
        "id": "jI9hgF0pDmGg",
        "outputId": "d9bda9ef-9687-4c83-9e15-f5b57b047846"
      },
      "source": [
        "import os\n",
        "from google.colab import drive\n",
        "\n",
        "# Mount google drive\n",
        "DRIVE_MOUNT='/content/gdrive'\n",
        "drive.mount(DRIVE_MOUNT)"
      ],
      "execution_count": null,
      "outputs": [
        {
          "output_type": "stream",
          "text": [
            "Drive already mounted at /content/gdrive; to attempt to forcibly remount, call drive.mount(\"/content/gdrive\", force_remount=True).\n"
          ],
          "name": "stdout"
        }
      ]
    },
    {
      "cell_type": "code",
      "metadata": {
        "id": "ALD25BN_Drlg",
        "colab": {
          "base_uri": "https://localhost:8080/"
        },
        "outputId": "3fec7e2d-0981-4bda-f6e4-4eb50c957742"
      },
      "source": [
        "import pandas as pd\n",
        "import numpy as np\n",
        "import matplotlib \n",
        "import seaborn as sns\n",
        "import plotly.express as px\n",
        "from datetime import datetime\n",
        "import string\n",
        "import nltk\n",
        "nltk.download('stopwords')\n",
        "from nltk.corpus import stopwords\n",
        "from textblob import TextBlob\n",
        "from wordcloud import WordCloud\n",
        "from gensim import corpora, models\n",
        "from nltk import tokenize\n",
        "import matplotlib.pyplot as plt\n",
        "\n",
        "# Statistical Analysis\n",
        "import statsmodels.api as sm\n",
        "from statsmodels.formula.api import ols\n",
        "\n",
        "#TF-IDF\n",
        "from sklearn.feature_extraction.text import CountVectorizer\n",
        "from sklearn.utils import shuffle"
      ],
      "execution_count": null,
      "outputs": [
        {
          "output_type": "stream",
          "text": [
            "[nltk_data] Downloading package stopwords to /root/nltk_data...\n",
            "[nltk_data]   Package stopwords is already up-to-date!\n"
          ],
          "name": "stdout"
        },
        {
          "output_type": "stream",
          "text": [
            "/usr/local/lib/python3.7/dist-packages/statsmodels/tools/_testing.py:19: FutureWarning:\n",
            "\n",
            "pandas.util.testing is deprecated. Use the functions in the public API at pandas.testing instead.\n",
            "\n"
          ],
          "name": "stderr"
        }
      ]
    },
    {
      "cell_type": "code",
      "metadata": {
        "id": "xf4hHLV-D0rb"
      },
      "source": [
        "twitter_df = pd.read_excel('/content/gdrive/MyDrive/ENGL 209 Final/twitter_fakenews_USElections_2016.xlsx')"
      ],
      "execution_count": null,
      "outputs": []
    },
    {
      "cell_type": "markdown",
      "metadata": {
        "id": "FobUKvvFwaVu"
      },
      "source": [
        "## Data Cleaning"
      ]
    },
    {
      "cell_type": "markdown",
      "metadata": {
        "id": "sVjGh924Z984"
      },
      "source": [
        "We first divide the dataset into real and fake news based on the \"is_fake_news\" category"
      ]
    },
    {
      "cell_type": "code",
      "metadata": {
        "id": "t0MkO8NbD8H5"
      },
      "source": [
        "fake_news = twitter_df[(twitter_df['is_fake_news_1'] == True) | (twitter_df['is_fake_news_2'] == True) ]"
      ],
      "execution_count": null,
      "outputs": []
    },
    {
      "cell_type": "code",
      "metadata": {
        "id": "GPoVDx0UvjEt"
      },
      "source": [
        "real_news = twitter_df[(twitter_df['is_fake_news_1'] == False) & (twitter_df['is_fake_news_2'] == False) ]"
      ],
      "execution_count": null,
      "outputs": []
    },
    {
      "cell_type": "code",
      "metadata": {
        "id": "kz3W7QuiLk70"
      },
      "source": [
        "fake_news = fake_news.rename(columns={'fake_news_category_1': 'category1', 'fake_news_category_2': 'category2'})"
      ],
      "execution_count": null,
      "outputs": []
    },
    {
      "cell_type": "code",
      "metadata": {
        "colab": {
          "base_uri": "https://localhost:8080/",
          "height": 830
        },
        "id": "O33UM6iFvyCL",
        "outputId": "c91c5dd9-64bf-44fa-eb1c-1985ec949bd4"
      },
      "source": [
        "real_news = real_news.rename(columns={'fake_news_category_1': 'category1', 'fake_news_category_2': 'category2'})\n",
        "real_news"
      ],
      "execution_count": null,
      "outputs": [
        {
          "output_type": "execute_result",
          "data": {
            "text/html": [
              "<div>\n",
              "<style scoped>\n",
              "    .dataframe tbody tr th:only-of-type {\n",
              "        vertical-align: middle;\n",
              "    }\n",
              "\n",
              "    .dataframe tbody tr th {\n",
              "        vertical-align: top;\n",
              "    }\n",
              "\n",
              "    .dataframe thead th {\n",
              "        text-align: right;\n",
              "    }\n",
              "</style>\n",
              "<table border=\"1\" class=\"dataframe\">\n",
              "  <thead>\n",
              "    <tr style=\"text-align: right;\">\n",
              "      <th></th>\n",
              "      <th>is_fake_news_1</th>\n",
              "      <th>is_fake_news_2</th>\n",
              "      <th>category1</th>\n",
              "      <th>category2</th>\n",
              "      <th>tweet_id</th>\n",
              "      <th>created_at</th>\n",
              "      <th>retweet_count</th>\n",
              "      <th>text</th>\n",
              "      <th>user_screen_name</th>\n",
              "      <th>user_verified</th>\n",
              "      <th>user_friends_count</th>\n",
              "      <th>user_followers_count</th>\n",
              "      <th>user_favourites_count</th>\n",
              "      <th>tweet_source</th>\n",
              "      <th>geo_coordinates_available</th>\n",
              "      <th>num_hashtags</th>\n",
              "      <th>num_mentions</th>\n",
              "      <th>num_urls</th>\n",
              "      <th>num_media</th>\n",
              "    </tr>\n",
              "  </thead>\n",
              "  <tbody>\n",
              "    <tr>\n",
              "      <th>0</th>\n",
              "      <td>False</td>\n",
              "      <td>False</td>\n",
              "      <td>0</td>\n",
              "      <td>0</td>\n",
              "      <td>258641295487156224</td>\n",
              "      <td>Wed Oct 17 18:51:04 +0000 2012</td>\n",
              "      <td>1210</td>\n",
              "      <td>@realDonaldTrump YOU SHOULD BE PRESIDENT FOR S...</td>\n",
              "      <td>GHOSTofMEATBALL</td>\n",
              "      <td>False</td>\n",
              "      <td>396</td>\n",
              "      <td>804</td>\n",
              "      <td>91</td>\n",
              "      <td>TweetDeck</td>\n",
              "      <td>0</td>\n",
              "      <td>0</td>\n",
              "      <td>2</td>\n",
              "      <td>0</td>\n",
              "      <td>0</td>\n",
              "    </tr>\n",
              "    <tr>\n",
              "      <th>1</th>\n",
              "      <td>False</td>\n",
              "      <td>False</td>\n",
              "      <td>0</td>\n",
              "      <td>0</td>\n",
              "      <td>261135127055327233</td>\n",
              "      <td>Wed Oct 24 16:00:40 +0000 2012</td>\n",
              "      <td>1656</td>\n",
              "      <td>I literally pose half naked for a living and u...</td>\n",
              "      <td>chrissyteigen</td>\n",
              "      <td>True</td>\n",
              "      <td>4024</td>\n",
              "      <td>3983853</td>\n",
              "      <td>20973</td>\n",
              "      <td>Twitter for iPhone</td>\n",
              "      <td>0</td>\n",
              "      <td>0</td>\n",
              "      <td>2</td>\n",
              "      <td>0</td>\n",
              "      <td>0</td>\n",
              "    </tr>\n",
              "    <tr>\n",
              "      <th>2</th>\n",
              "      <td>False</td>\n",
              "      <td>False</td>\n",
              "      <td>0</td>\n",
              "      <td>0</td>\n",
              "      <td>264033382076407808</td>\n",
              "      <td>Thu Nov 01 15:57:18 +0000 2012</td>\n",
              "      <td>4688</td>\n",
              "      <td>@realDonaldTrump you are full of shit!</td>\n",
              "      <td>RalphGilles</td>\n",
              "      <td>True</td>\n",
              "      <td>759</td>\n",
              "      <td>29163</td>\n",
              "      <td>3298</td>\n",
              "      <td>Twitter for iPhone</td>\n",
              "      <td>0</td>\n",
              "      <td>0</td>\n",
              "      <td>2</td>\n",
              "      <td>0</td>\n",
              "      <td>0</td>\n",
              "    </tr>\n",
              "    <tr>\n",
              "      <th>3</th>\n",
              "      <td>False</td>\n",
              "      <td>False</td>\n",
              "      <td>0</td>\n",
              "      <td>0</td>\n",
              "      <td>265895586660757505</td>\n",
              "      <td>Tue Nov 06 19:17:02 +0000 2012</td>\n",
              "      <td>10418</td>\n",
              "      <td>@realDonaldTrump you're fucking retarded</td>\n",
              "      <td>TimmyWait</td>\n",
              "      <td>False</td>\n",
              "      <td>839</td>\n",
              "      <td>397</td>\n",
              "      <td>506</td>\n",
              "      <td>Twitter Web Client</td>\n",
              "      <td>0</td>\n",
              "      <td>0</td>\n",
              "      <td>2</td>\n",
              "      <td>0</td>\n",
              "      <td>0</td>\n",
              "    </tr>\n",
              "    <tr>\n",
              "      <th>4</th>\n",
              "      <td>False</td>\n",
              "      <td>False</td>\n",
              "      <td>0</td>\n",
              "      <td>0</td>\n",
              "      <td>265895723445411841</td>\n",
              "      <td>Tue Nov 06 19:17:35 +0000 2012</td>\n",
              "      <td>1930</td>\n",
              "      <td>@realDonaldTrump You are the stupidest man on ...</td>\n",
              "      <td>mattcale52</td>\n",
              "      <td>False</td>\n",
              "      <td>1184</td>\n",
              "      <td>1350</td>\n",
              "      <td>3364</td>\n",
              "      <td>Twitter for iPhone</td>\n",
              "      <td>0</td>\n",
              "      <td>0</td>\n",
              "      <td>2</td>\n",
              "      <td>0</td>\n",
              "      <td>0</td>\n",
              "    </tr>\n",
              "    <tr>\n",
              "      <th>...</th>\n",
              "      <td>...</td>\n",
              "      <td>...</td>\n",
              "      <td>...</td>\n",
              "      <td>...</td>\n",
              "      <td>...</td>\n",
              "      <td>...</td>\n",
              "      <td>...</td>\n",
              "      <td>...</td>\n",
              "      <td>...</td>\n",
              "      <td>...</td>\n",
              "      <td>...</td>\n",
              "      <td>...</td>\n",
              "      <td>...</td>\n",
              "      <td>...</td>\n",
              "      <td>...</td>\n",
              "      <td>...</td>\n",
              "      <td>...</td>\n",
              "      <td>...</td>\n",
              "      <td>...</td>\n",
              "    </tr>\n",
              "    <tr>\n",
              "      <th>8996</th>\n",
              "      <td>False</td>\n",
              "      <td>False</td>\n",
              "      <td>0</td>\n",
              "      <td>-1</td>\n",
              "      <td>834904228283969536</td>\n",
              "      <td>Thu Feb 23 23:14:14 +0000 2017</td>\n",
              "      <td>1467</td>\n",
              "      <td>So not only was @realDonaldTrump's campaign in...</td>\n",
              "      <td>KeithOlbermann</td>\n",
              "      <td>True</td>\n",
              "      <td>898</td>\n",
              "      <td>849848</td>\n",
              "      <td>9</td>\n",
              "      <td>Twitter for iPhone</td>\n",
              "      <td>0</td>\n",
              "      <td>0</td>\n",
              "      <td>2</td>\n",
              "      <td>0</td>\n",
              "      <td>0</td>\n",
              "    </tr>\n",
              "    <tr>\n",
              "      <th>8997</th>\n",
              "      <td>False</td>\n",
              "      <td>False</td>\n",
              "      <td>0</td>\n",
              "      <td>0</td>\n",
              "      <td>834935434144731136</td>\n",
              "      <td>Fri Feb 24 01:18:14 +0000 2017</td>\n",
              "      <td>8396</td>\n",
              "      <td>Well @realDonaldTrump, from one Republican to ...</td>\n",
              "      <td>Caitlyn_Jenner</td>\n",
              "      <td>True</td>\n",
              "      <td>39</td>\n",
              "      <td>3927783</td>\n",
              "      <td>38</td>\n",
              "      <td>Twitter for iPhone</td>\n",
              "      <td>0</td>\n",
              "      <td>0</td>\n",
              "      <td>2</td>\n",
              "      <td>1</td>\n",
              "      <td>0</td>\n",
              "    </tr>\n",
              "    <tr>\n",
              "      <th>8998</th>\n",
              "      <td>False</td>\n",
              "      <td>False</td>\n",
              "      <td>0</td>\n",
              "      <td>0</td>\n",
              "      <td>834935842590294016</td>\n",
              "      <td>Fri Feb 24 01:19:51 +0000 2017</td>\n",
              "      <td>2257</td>\n",
              "      <td>How are you going to sit here and tell trans k...</td>\n",
              "      <td>coolbreeeze_</td>\n",
              "      <td>False</td>\n",
              "      <td>512</td>\n",
              "      <td>1499</td>\n",
              "      <td>5832</td>\n",
              "      <td>TweetDeck</td>\n",
              "      <td>0</td>\n",
              "      <td>0</td>\n",
              "      <td>1</td>\n",
              "      <td>1</td>\n",
              "      <td>0</td>\n",
              "    </tr>\n",
              "    <tr>\n",
              "      <th>8999</th>\n",
              "      <td>False</td>\n",
              "      <td>False</td>\n",
              "      <td>0</td>\n",
              "      <td>0</td>\n",
              "      <td>834940351894990848</td>\n",
              "      <td>Fri Feb 24 01:37:46 +0000 2017</td>\n",
              "      <td>3408</td>\n",
              "      <td>the gag is, you only now care because his hate...</td>\n",
              "      <td>minajIust</td>\n",
              "      <td>False</td>\n",
              "      <td>200</td>\n",
              "      <td>1011</td>\n",
              "      <td>15732</td>\n",
              "      <td>Twitter for iPhone</td>\n",
              "      <td>0</td>\n",
              "      <td>0</td>\n",
              "      <td>1</td>\n",
              "      <td>1</td>\n",
              "      <td>0</td>\n",
              "    </tr>\n",
              "    <tr>\n",
              "      <th>9000</th>\n",
              "      <td>False</td>\n",
              "      <td>False</td>\n",
              "      <td>0</td>\n",
              "      <td>0</td>\n",
              "      <td>834946839052943361</td>\n",
              "      <td>Fri Feb 24 02:03:33 +0000 2017</td>\n",
              "      <td>1037</td>\n",
              "      <td>We need to investigate if @realDonaldTrump ins...</td>\n",
              "      <td>TeaPainUSA</td>\n",
              "      <td>False</td>\n",
              "      <td>95315</td>\n",
              "      <td>99055</td>\n",
              "      <td>89744</td>\n",
              "      <td>Twitter Web Client</td>\n",
              "      <td>1</td>\n",
              "      <td>1</td>\n",
              "      <td>2</td>\n",
              "      <td>0</td>\n",
              "      <td>0</td>\n",
              "    </tr>\n",
              "  </tbody>\n",
              "</table>\n",
              "<p>6445 rows × 19 columns</p>\n",
              "</div>"
            ],
            "text/plain": [
              "     is_fake_news_1 is_fake_news_2  ...  num_urls  num_media\n",
              "0             False          False  ...         0          0\n",
              "1             False          False  ...         0          0\n",
              "2             False          False  ...         0          0\n",
              "3             False          False  ...         0          0\n",
              "4             False          False  ...         0          0\n",
              "...             ...            ...  ...       ...        ...\n",
              "8996          False          False  ...         0          0\n",
              "8997          False          False  ...         1          0\n",
              "8998          False          False  ...         1          0\n",
              "8999          False          False  ...         1          0\n",
              "9000          False          False  ...         0          0\n",
              "\n",
              "[6445 rows x 19 columns]"
            ]
          },
          "metadata": {
            "tags": []
          },
          "execution_count": 7
        }
      ]
    },
    {
      "cell_type": "markdown",
      "metadata": {
        "id": "99dSPIeK5M69"
      },
      "source": [
        "### Convert date strings to datetime"
      ]
    },
    {
      "cell_type": "code",
      "metadata": {
        "id": "xL38yYvD2d6O"
      },
      "source": [
        "def clean_date(date):\n",
        "  date_array = date.split()\n",
        "  new_date = f\"{date_array[1]} {date_array[2]} {date_array[-1]}\"\n",
        "  date_time_obj = datetime.strptime(new_date, '%b %d %Y')\n",
        "  return date_time_obj\n",
        "\n",
        "fake_news['created_at'] = fake_news['created_at'].apply(lambda x : clean_date(x))\n",
        "real_news['created_at'] = real_news['created_at'].apply(lambda x : clean_date(x))"
      ],
      "execution_count": null,
      "outputs": []
    },
    {
      "cell_type": "markdown",
      "metadata": {
        "id": "Re5FcWxPyMcs"
      },
      "source": [
        "### Filter out columns and clean category columns"
      ]
    },
    {
      "cell_type": "code",
      "metadata": {
        "colab": {
          "base_uri": "https://localhost:8080/",
          "height": 813
        },
        "id": "qjplre-iKkFR",
        "outputId": "1fd53eb6-ee97-4efc-82e8-0bf43c29027a"
      },
      "source": [
        "def check(category1, category2):\n",
        "  if (category1 == 0):\n",
        "    return category2\n",
        "  else:\n",
        "    return category1\n",
        "\n",
        "fake_news['category'] = fake_news.apply(lambda x: check(x.category1, x.category2), axis=1)\n",
        "fake_news_final = fake_news[['category', 'created_at', 'retweet_count', 'text', 'user_screen_name', 'user_verified', 'user_friends_count', 'user_followers_count']]\n",
        "fake_news_final"
      ],
      "execution_count": null,
      "outputs": [
        {
          "output_type": "execute_result",
          "data": {
            "text/html": [
              "<div>\n",
              "<style scoped>\n",
              "    .dataframe tbody tr th:only-of-type {\n",
              "        vertical-align: middle;\n",
              "    }\n",
              "\n",
              "    .dataframe tbody tr th {\n",
              "        vertical-align: top;\n",
              "    }\n",
              "\n",
              "    .dataframe thead th {\n",
              "        text-align: right;\n",
              "    }\n",
              "</style>\n",
              "<table border=\"1\" class=\"dataframe\">\n",
              "  <thead>\n",
              "    <tr style=\"text-align: right;\">\n",
              "      <th></th>\n",
              "      <th>category</th>\n",
              "      <th>created_at</th>\n",
              "      <th>retweet_count</th>\n",
              "      <th>text</th>\n",
              "      <th>user_screen_name</th>\n",
              "      <th>user_verified</th>\n",
              "      <th>user_friends_count</th>\n",
              "      <th>user_followers_count</th>\n",
              "    </tr>\n",
              "  </thead>\n",
              "  <tbody>\n",
              "    <tr>\n",
              "      <th>24</th>\n",
              "      <td>4</td>\n",
              "      <td>2013-08-09</td>\n",
              "      <td>1525</td>\n",
              "      <td>'@arcuate: dude that's freaking cool as heck R...</td>\n",
              "      <td>realDonaldTrump</td>\n",
              "      <td>True</td>\n",
              "      <td>41</td>\n",
              "      <td>15206459</td>\n",
              "    </tr>\n",
              "    <tr>\n",
              "      <th>33</th>\n",
              "      <td>5</td>\n",
              "      <td>2014-03-04</td>\n",
              "      <td>3109</td>\n",
              "      <td>'@KEEMSTARx: If @realDonaldTrump was president...</td>\n",
              "      <td>realDonaldTrump</td>\n",
              "      <td>True</td>\n",
              "      <td>41</td>\n",
              "      <td>13352989</td>\n",
              "    </tr>\n",
              "    <tr>\n",
              "      <th>56</th>\n",
              "      <td>2</td>\n",
              "      <td>2015-04-12</td>\n",
              "      <td>1645</td>\n",
              "      <td>Hillary Clinton has stolen our innovative Wiki...</td>\n",
              "      <td>wikileaks</td>\n",
              "      <td>True</td>\n",
              "      <td>7609</td>\n",
              "      <td>4199734</td>\n",
              "    </tr>\n",
              "    <tr>\n",
              "      <th>61</th>\n",
              "      <td>5</td>\n",
              "      <td>2015-05-09</td>\n",
              "      <td>1399</td>\n",
              "      <td>Hey @realDonaldTrump your bad boy son cut off ...</td>\n",
              "      <td>timheidecker</td>\n",
              "      <td>True</td>\n",
              "      <td>278</td>\n",
              "      <td>495776</td>\n",
              "    </tr>\n",
              "    <tr>\n",
              "      <th>79</th>\n",
              "      <td>5</td>\n",
              "      <td>2015-07-13</td>\n",
              "      <td>1162</td>\n",
              "      <td>Services like Uber, Airbnb, and Lyft stimulate...</td>\n",
              "      <td>RandPaul</td>\n",
              "      <td>True</td>\n",
              "      <td>474</td>\n",
              "      <td>1108061</td>\n",
              "    </tr>\n",
              "    <tr>\n",
              "      <th>...</th>\n",
              "      <td>...</td>\n",
              "      <td>...</td>\n",
              "      <td>...</td>\n",
              "      <td>...</td>\n",
              "      <td>...</td>\n",
              "      <td>...</td>\n",
              "      <td>...</td>\n",
              "      <td>...</td>\n",
              "    </tr>\n",
              "    <tr>\n",
              "      <th>8948</th>\n",
              "      <td>-1</td>\n",
              "      <td>2017-02-21</td>\n",
              "      <td>1358</td>\n",
              "      <td>As if on cue, Rioting Breaks Out In Sweden in ...</td>\n",
              "      <td>NetworksManager</td>\n",
              "      <td>False</td>\n",
              "      <td>68781</td>\n",
              "      <td>78568</td>\n",
              "    </tr>\n",
              "    <tr>\n",
              "      <th>8960</th>\n",
              "      <td>4</td>\n",
              "      <td>2017-02-21</td>\n",
              "      <td>2899</td>\n",
              "      <td>.@realDonaldTrump has made 132 false claims in...</td>\n",
              "      <td>VicenteFoxQue</td>\n",
              "      <td>True</td>\n",
              "      <td>114</td>\n",
              "      <td>622322</td>\n",
              "    </tr>\n",
              "    <tr>\n",
              "      <th>8967</th>\n",
              "      <td>4</td>\n",
              "      <td>2017-02-22</td>\n",
              "      <td>1198</td>\n",
              "      <td>500,000 Americans killed by gunshots since 9/1...</td>\n",
              "      <td>ColMorrisDavis</td>\n",
              "      <td>False</td>\n",
              "      <td>651</td>\n",
              "      <td>54740</td>\n",
              "    </tr>\n",
              "    <tr>\n",
              "      <th>8983</th>\n",
              "      <td>3</td>\n",
              "      <td>2017-02-22</td>\n",
              "      <td>1092</td>\n",
              "      <td>Much backstage talk about @katyperry's @BRITs ...</td>\n",
              "      <td>Mark_Beech</td>\n",
              "      <td>True</td>\n",
              "      <td>6045</td>\n",
              "      <td>892957</td>\n",
              "    </tr>\n",
              "    <tr>\n",
              "      <th>8994</th>\n",
              "      <td>1</td>\n",
              "      <td>2017-02-23</td>\n",
              "      <td>3099</td>\n",
              "      <td>Just received confirmation that @realDonaldTru...</td>\n",
              "      <td>JamesOKeefeIII</td>\n",
              "      <td>False</td>\n",
              "      <td>1034</td>\n",
              "      <td>262516</td>\n",
              "    </tr>\n",
              "  </tbody>\n",
              "</table>\n",
              "<p>1975 rows × 8 columns</p>\n",
              "</div>"
            ],
            "text/plain": [
              "      category created_at  ...  user_friends_count user_followers_count\n",
              "24           4 2013-08-09  ...                  41             15206459\n",
              "33           5 2014-03-04  ...                  41             13352989\n",
              "56           2 2015-04-12  ...                7609              4199734\n",
              "61           5 2015-05-09  ...                 278               495776\n",
              "79           5 2015-07-13  ...                 474              1108061\n",
              "...        ...        ...  ...                 ...                  ...\n",
              "8948        -1 2017-02-21  ...               68781                78568\n",
              "8960         4 2017-02-21  ...                 114               622322\n",
              "8967         4 2017-02-22  ...                 651                54740\n",
              "8983         3 2017-02-22  ...                6045               892957\n",
              "8994         1 2017-02-23  ...                1034               262516\n",
              "\n",
              "[1975 rows x 8 columns]"
            ]
          },
          "metadata": {
            "tags": []
          },
          "execution_count": 9
        }
      ]
    },
    {
      "cell_type": "code",
      "metadata": {
        "colab": {
          "base_uri": "https://localhost:8080/",
          "height": 813
        },
        "id": "Ydb0OBe0wD6a",
        "outputId": "fc264a3e-7c7a-4944-80e0-35093f51d6f9"
      },
      "source": [
        "real_news['category'] = real_news.apply(lambda x: check(x.category1, x.category2), axis=1)\n",
        "real_news_final = real_news[['category', 'created_at', 'retweet_count', 'text', 'user_screen_name', 'user_verified', 'user_friends_count', 'user_followers_count']]\n",
        "real_news_final"
      ],
      "execution_count": null,
      "outputs": [
        {
          "output_type": "execute_result",
          "data": {
            "text/html": [
              "<div>\n",
              "<style scoped>\n",
              "    .dataframe tbody tr th:only-of-type {\n",
              "        vertical-align: middle;\n",
              "    }\n",
              "\n",
              "    .dataframe tbody tr th {\n",
              "        vertical-align: top;\n",
              "    }\n",
              "\n",
              "    .dataframe thead th {\n",
              "        text-align: right;\n",
              "    }\n",
              "</style>\n",
              "<table border=\"1\" class=\"dataframe\">\n",
              "  <thead>\n",
              "    <tr style=\"text-align: right;\">\n",
              "      <th></th>\n",
              "      <th>category</th>\n",
              "      <th>created_at</th>\n",
              "      <th>retweet_count</th>\n",
              "      <th>text</th>\n",
              "      <th>user_screen_name</th>\n",
              "      <th>user_verified</th>\n",
              "      <th>user_friends_count</th>\n",
              "      <th>user_followers_count</th>\n",
              "    </tr>\n",
              "  </thead>\n",
              "  <tbody>\n",
              "    <tr>\n",
              "      <th>0</th>\n",
              "      <td>0</td>\n",
              "      <td>2012-10-17</td>\n",
              "      <td>1210</td>\n",
              "      <td>@realDonaldTrump YOU SHOULD BE PRESIDENT FOR S...</td>\n",
              "      <td>GHOSTofMEATBALL</td>\n",
              "      <td>False</td>\n",
              "      <td>396</td>\n",
              "      <td>804</td>\n",
              "    </tr>\n",
              "    <tr>\n",
              "      <th>1</th>\n",
              "      <td>0</td>\n",
              "      <td>2012-10-24</td>\n",
              "      <td>1656</td>\n",
              "      <td>I literally pose half naked for a living and u...</td>\n",
              "      <td>chrissyteigen</td>\n",
              "      <td>True</td>\n",
              "      <td>4024</td>\n",
              "      <td>3983853</td>\n",
              "    </tr>\n",
              "    <tr>\n",
              "      <th>2</th>\n",
              "      <td>0</td>\n",
              "      <td>2012-11-01</td>\n",
              "      <td>4688</td>\n",
              "      <td>@realDonaldTrump you are full of shit!</td>\n",
              "      <td>RalphGilles</td>\n",
              "      <td>True</td>\n",
              "      <td>759</td>\n",
              "      <td>29163</td>\n",
              "    </tr>\n",
              "    <tr>\n",
              "      <th>3</th>\n",
              "      <td>0</td>\n",
              "      <td>2012-11-06</td>\n",
              "      <td>10418</td>\n",
              "      <td>@realDonaldTrump you're fucking retarded</td>\n",
              "      <td>TimmyWait</td>\n",
              "      <td>False</td>\n",
              "      <td>839</td>\n",
              "      <td>397</td>\n",
              "    </tr>\n",
              "    <tr>\n",
              "      <th>4</th>\n",
              "      <td>0</td>\n",
              "      <td>2012-11-06</td>\n",
              "      <td>1930</td>\n",
              "      <td>@realDonaldTrump You are the stupidest man on ...</td>\n",
              "      <td>mattcale52</td>\n",
              "      <td>False</td>\n",
              "      <td>1184</td>\n",
              "      <td>1350</td>\n",
              "    </tr>\n",
              "    <tr>\n",
              "      <th>...</th>\n",
              "      <td>...</td>\n",
              "      <td>...</td>\n",
              "      <td>...</td>\n",
              "      <td>...</td>\n",
              "      <td>...</td>\n",
              "      <td>...</td>\n",
              "      <td>...</td>\n",
              "      <td>...</td>\n",
              "    </tr>\n",
              "    <tr>\n",
              "      <th>8996</th>\n",
              "      <td>-1</td>\n",
              "      <td>2017-02-23</td>\n",
              "      <td>1467</td>\n",
              "      <td>So not only was @realDonaldTrump's campaign in...</td>\n",
              "      <td>KeithOlbermann</td>\n",
              "      <td>True</td>\n",
              "      <td>898</td>\n",
              "      <td>849848</td>\n",
              "    </tr>\n",
              "    <tr>\n",
              "      <th>8997</th>\n",
              "      <td>0</td>\n",
              "      <td>2017-02-24</td>\n",
              "      <td>8396</td>\n",
              "      <td>Well @realDonaldTrump, from one Republican to ...</td>\n",
              "      <td>Caitlyn_Jenner</td>\n",
              "      <td>True</td>\n",
              "      <td>39</td>\n",
              "      <td>3927783</td>\n",
              "    </tr>\n",
              "    <tr>\n",
              "      <th>8998</th>\n",
              "      <td>0</td>\n",
              "      <td>2017-02-24</td>\n",
              "      <td>2257</td>\n",
              "      <td>How are you going to sit here and tell trans k...</td>\n",
              "      <td>coolbreeeze_</td>\n",
              "      <td>False</td>\n",
              "      <td>512</td>\n",
              "      <td>1499</td>\n",
              "    </tr>\n",
              "    <tr>\n",
              "      <th>8999</th>\n",
              "      <td>0</td>\n",
              "      <td>2017-02-24</td>\n",
              "      <td>3408</td>\n",
              "      <td>the gag is, you only now care because his hate...</td>\n",
              "      <td>minajIust</td>\n",
              "      <td>False</td>\n",
              "      <td>200</td>\n",
              "      <td>1011</td>\n",
              "    </tr>\n",
              "    <tr>\n",
              "      <th>9000</th>\n",
              "      <td>0</td>\n",
              "      <td>2017-02-24</td>\n",
              "      <td>1037</td>\n",
              "      <td>We need to investigate if @realDonaldTrump ins...</td>\n",
              "      <td>TeaPainUSA</td>\n",
              "      <td>False</td>\n",
              "      <td>95315</td>\n",
              "      <td>99055</td>\n",
              "    </tr>\n",
              "  </tbody>\n",
              "</table>\n",
              "<p>6445 rows × 8 columns</p>\n",
              "</div>"
            ],
            "text/plain": [
              "      category created_at  ...  user_friends_count user_followers_count\n",
              "0            0 2012-10-17  ...                 396                  804\n",
              "1            0 2012-10-24  ...                4024              3983853\n",
              "2            0 2012-11-01  ...                 759                29163\n",
              "3            0 2012-11-06  ...                 839                  397\n",
              "4            0 2012-11-06  ...                1184                 1350\n",
              "...        ...        ...  ...                 ...                  ...\n",
              "8996        -1 2017-02-23  ...                 898               849848\n",
              "8997         0 2017-02-24  ...                  39              3927783\n",
              "8998         0 2017-02-24  ...                 512                 1499\n",
              "8999         0 2017-02-24  ...                 200                 1011\n",
              "9000         0 2017-02-24  ...               95315                99055\n",
              "\n",
              "[6445 rows x 8 columns]"
            ]
          },
          "metadata": {
            "tags": []
          },
          "execution_count": 10
        }
      ]
    },
    {
      "cell_type": "markdown",
      "metadata": {
        "id": "PUN51A3oyIV0"
      },
      "source": [
        "### Remove nulls"
      ]
    },
    {
      "cell_type": "code",
      "metadata": {
        "colab": {
          "base_uri": "https://localhost:8080/"
        },
        "id": "VHl5IlE3xz95",
        "outputId": "066f1357-9739-4951-e80f-781cf8d06157"
      },
      "source": [
        "fake_news_final.isna().sum()"
      ],
      "execution_count": null,
      "outputs": [
        {
          "output_type": "execute_result",
          "data": {
            "text/plain": [
              "category                0\n",
              "created_at              0\n",
              "retweet_count           0\n",
              "text                    0\n",
              "user_screen_name        0\n",
              "user_verified           0\n",
              "user_friends_count      0\n",
              "user_followers_count    0\n",
              "dtype: int64"
            ]
          },
          "metadata": {
            "tags": []
          },
          "execution_count": 11
        }
      ]
    },
    {
      "cell_type": "code",
      "metadata": {
        "colab": {
          "base_uri": "https://localhost:8080/"
        },
        "id": "WKxhR2esx2tC",
        "outputId": "8a39dd6d-5d89-4c4c-e721-8fce158d954c"
      },
      "source": [
        "real_news_final.isna().sum()"
      ],
      "execution_count": null,
      "outputs": [
        {
          "output_type": "execute_result",
          "data": {
            "text/plain": [
              "category                0\n",
              "created_at              0\n",
              "retweet_count           0\n",
              "text                    0\n",
              "user_screen_name        0\n",
              "user_verified           0\n",
              "user_friends_count      0\n",
              "user_followers_count    0\n",
              "dtype: int64"
            ]
          },
          "metadata": {
            "tags": []
          },
          "execution_count": 12
        }
      ]
    },
    {
      "cell_type": "markdown",
      "metadata": {
        "id": "V-rLLJe1HUta"
      },
      "source": [
        "## Exploratory Analysis"
      ]
    },
    {
      "cell_type": "markdown",
      "metadata": {
        "id": "opqpqbSNIGhz"
      },
      "source": [
        "### When do users post fake news?"
      ]
    },
    {
      "cell_type": "code",
      "metadata": {
        "colab": {
          "base_uri": "https://localhost:8080/"
        },
        "id": "61xxTL3XwoZp",
        "outputId": "a4988bb7-53cf-46fa-a005-c392564f0b58"
      },
      "source": [
        "fake_news_final['weekday'] = fake_news_final['created_at'].apply(lambda x: x.weekday())\n",
        "fake_news_final['month'] = fake_news_final['created_at'].apply(lambda x: x.month)\n",
        "\n",
        "real_news_final['weekday'] = real_news_final['created_at'].apply(lambda x: x.weekday())\n",
        "real_news_final['month'] = real_news_final['created_at'].apply(lambda x: x.month)"
      ],
      "execution_count": null,
      "outputs": [
        {
          "output_type": "stream",
          "text": [
            "/usr/local/lib/python3.7/dist-packages/ipykernel_launcher.py:1: SettingWithCopyWarning:\n",
            "\n",
            "\n",
            "A value is trying to be set on a copy of a slice from a DataFrame.\n",
            "Try using .loc[row_indexer,col_indexer] = value instead\n",
            "\n",
            "See the caveats in the documentation: https://pandas.pydata.org/pandas-docs/stable/user_guide/indexing.html#returning-a-view-versus-a-copy\n",
            "\n",
            "/usr/local/lib/python3.7/dist-packages/ipykernel_launcher.py:2: SettingWithCopyWarning:\n",
            "\n",
            "\n",
            "A value is trying to be set on a copy of a slice from a DataFrame.\n",
            "Try using .loc[row_indexer,col_indexer] = value instead\n",
            "\n",
            "See the caveats in the documentation: https://pandas.pydata.org/pandas-docs/stable/user_guide/indexing.html#returning-a-view-versus-a-copy\n",
            "\n",
            "/usr/local/lib/python3.7/dist-packages/ipykernel_launcher.py:4: SettingWithCopyWarning:\n",
            "\n",
            "\n",
            "A value is trying to be set on a copy of a slice from a DataFrame.\n",
            "Try using .loc[row_indexer,col_indexer] = value instead\n",
            "\n",
            "See the caveats in the documentation: https://pandas.pydata.org/pandas-docs/stable/user_guide/indexing.html#returning-a-view-versus-a-copy\n",
            "\n",
            "/usr/local/lib/python3.7/dist-packages/ipykernel_launcher.py:5: SettingWithCopyWarning:\n",
            "\n",
            "\n",
            "A value is trying to be set on a copy of a slice from a DataFrame.\n",
            "Try using .loc[row_indexer,col_indexer] = value instead\n",
            "\n",
            "See the caveats in the documentation: https://pandas.pydata.org/pandas-docs/stable/user_guide/indexing.html#returning-a-view-versus-a-copy\n",
            "\n"
          ],
          "name": "stderr"
        }
      ]
    },
    {
      "cell_type": "code",
      "metadata": {
        "colab": {
          "base_uri": "https://localhost:8080/",
          "height": 327
        },
        "id": "yBD4KTef5JO2",
        "outputId": "5412e147-9c7e-4eee-ea15-0814861992a8"
      },
      "source": [
        "fake_date_group = fake_news_final.groupby(by = [\"month\", \"weekday\"]).size().reset_index(name=\"count\")\n",
        "fake_date = fake_date_group.pivot(\"month\", \"weekday\", \"count\")\n",
        "x_axis_labels = ['Sunday', 'Monday', 'Tuesday', 'Wednesday', 'Thursday', 'Friday', 'Saturday'] # labels for x-axis\n",
        "ax = sns.heatmap(fake_date, xticklabels=x_axis_labels)"
      ],
      "execution_count": null,
      "outputs": [
        {
          "output_type": "display_data",
          "data": {
            "image/png": "[encoded data removed]",
            "text/plain": [
              "<Figure size 432x288 with 2 Axes>"
            ]
          },
          "metadata": {
            "tags": [],
            "needs_background": "light"
          }
        }
      ]
    },
    {
      "cell_type": "markdown",
      "metadata": {
        "id": "H5DgOz6lcwJu"
      },
      "source": [
        "From above, seems like early in the week is the most popular time to post tweets and given the nature of the tweets, towards the election is when fake news came in the most"
      ]
    },
    {
      "cell_type": "code",
      "metadata": {
        "colab": {
          "base_uri": "https://localhost:8080/",
          "height": 419
        },
        "id": "qHaymgr-7ojW",
        "outputId": "a9640819-44d6-4636-de56-b08ca84f40cc"
      },
      "source": [
        "fake_date_group.sort_values(by=\"count\", ascending=False)"
      ],
      "execution_count": null,
      "outputs": [
        {
          "output_type": "execute_result",
          "data": {
            "text/html": [
              "<div>\n",
              "<style scoped>\n",
              "    .dataframe tbody tr th:only-of-type {\n",
              "        vertical-align: middle;\n",
              "    }\n",
              "\n",
              "    .dataframe tbody tr th {\n",
              "        vertical-align: top;\n",
              "    }\n",
              "\n",
              "    .dataframe thead th {\n",
              "        text-align: right;\n",
              "    }\n",
              "</style>\n",
              "<table border=\"1\" class=\"dataframe\">\n",
              "  <thead>\n",
              "    <tr style=\"text-align: right;\">\n",
              "      <th></th>\n",
              "      <th>month</th>\n",
              "      <th>weekday</th>\n",
              "      <th>count</th>\n",
              "    </tr>\n",
              "  </thead>\n",
              "  <tbody>\n",
              "    <tr>\n",
              "      <th>71</th>\n",
              "      <td>11</td>\n",
              "      <td>2</td>\n",
              "      <td>627</td>\n",
              "    </tr>\n",
              "    <tr>\n",
              "      <th>70</th>\n",
              "      <td>11</td>\n",
              "      <td>1</td>\n",
              "      <td>272</td>\n",
              "    </tr>\n",
              "    <tr>\n",
              "      <th>74</th>\n",
              "      <td>11</td>\n",
              "      <td>5</td>\n",
              "      <td>61</td>\n",
              "    </tr>\n",
              "    <tr>\n",
              "      <th>75</th>\n",
              "      <td>11</td>\n",
              "      <td>6</td>\n",
              "      <td>59</td>\n",
              "    </tr>\n",
              "    <tr>\n",
              "      <th>69</th>\n",
              "      <td>11</td>\n",
              "      <td>0</td>\n",
              "      <td>51</td>\n",
              "    </tr>\n",
              "    <tr>\n",
              "      <th>...</th>\n",
              "      <td>...</td>\n",
              "      <td>...</td>\n",
              "      <td>...</td>\n",
              "    </tr>\n",
              "    <tr>\n",
              "      <th>28</th>\n",
              "      <td>5</td>\n",
              "      <td>1</td>\n",
              "      <td>1</td>\n",
              "    </tr>\n",
              "    <tr>\n",
              "      <th>16</th>\n",
              "      <td>3</td>\n",
              "      <td>2</td>\n",
              "      <td>1</td>\n",
              "    </tr>\n",
              "    <tr>\n",
              "      <th>33</th>\n",
              "      <td>5</td>\n",
              "      <td>6</td>\n",
              "      <td>1</td>\n",
              "    </tr>\n",
              "    <tr>\n",
              "      <th>34</th>\n",
              "      <td>6</td>\n",
              "      <td>0</td>\n",
              "      <td>1</td>\n",
              "    </tr>\n",
              "    <tr>\n",
              "      <th>30</th>\n",
              "      <td>5</td>\n",
              "      <td>3</td>\n",
              "      <td>1</td>\n",
              "    </tr>\n",
              "  </tbody>\n",
              "</table>\n",
              "<p>83 rows × 3 columns</p>\n",
              "</div>"
            ],
            "text/plain": [
              "    month  weekday  count\n",
              "71     11        2    627\n",
              "70     11        1    272\n",
              "74     11        5     61\n",
              "75     11        6     59\n",
              "69     11        0     51\n",
              "..    ...      ...    ...\n",
              "28      5        1      1\n",
              "16      3        2      1\n",
              "33      5        6      1\n",
              "34      6        0      1\n",
              "30      5        3      1\n",
              "\n",
              "[83 rows x 3 columns]"
            ]
          },
          "metadata": {
            "tags": []
          },
          "execution_count": 16
        }
      ]
    },
    {
      "cell_type": "markdown",
      "metadata": {
        "id": "B21eHJe9Idpa"
      },
      "source": [
        "### Text Cleaning and Sentiment Analysis"
      ]
    },
    {
      "cell_type": "markdown",
      "metadata": {
        "id": "7BjGHOpHJxf8"
      },
      "source": [
        "First, we want to remove punctuation and standardize the casing to lowercase"
      ]
    },
    {
      "cell_type": "code",
      "metadata": {
        "id": "GMr8xKO68ZpU",
        "colab": {
          "base_uri": "https://localhost:8080/"
        },
        "outputId": "06e16fed-4a2c-43cc-b5ce-d031272c2ed8"
      },
      "source": [
        "def punctuation_removal(text):\n",
        "  all_list = [char for char in text if char not in string.punctuation]\n",
        "  clean_str=''.join(all_list)\n",
        "  return clean_str\n",
        "\n",
        "fake_news_final['clean_text'] = fake_news_final['text'].apply(lambda x : punctuation_removal(x.lower()))\n",
        "real_news_final['clean_text'] = real_news_final['text'].apply(lambda x : punctuation_removal(x.lower()))"
      ],
      "execution_count": null,
      "outputs": [
        {
          "output_type": "stream",
          "text": [
            "/usr/local/lib/python3.7/dist-packages/ipykernel_launcher.py:6: SettingWithCopyWarning:\n",
            "\n",
            "\n",
            "A value is trying to be set on a copy of a slice from a DataFrame.\n",
            "Try using .loc[row_indexer,col_indexer] = value instead\n",
            "\n",
            "See the caveats in the documentation: https://pandas.pydata.org/pandas-docs/stable/user_guide/indexing.html#returning-a-view-versus-a-copy\n",
            "\n",
            "/usr/local/lib/python3.7/dist-packages/ipykernel_launcher.py:7: SettingWithCopyWarning:\n",
            "\n",
            "\n",
            "A value is trying to be set on a copy of a slice from a DataFrame.\n",
            "Try using .loc[row_indexer,col_indexer] = value instead\n",
            "\n",
            "See the caveats in the documentation: https://pandas.pydata.org/pandas-docs/stable/user_guide/indexing.html#returning-a-view-versus-a-copy\n",
            "\n"
          ],
          "name": "stderr"
        }
      ]
    },
    {
      "cell_type": "markdown",
      "metadata": {
        "id": "iUsL5t-kJ1e3"
      },
      "source": [
        "Next, we want to remove stopwords to prevent them from skewing our results"
      ]
    },
    {
      "cell_type": "code",
      "metadata": {
        "colab": {
          "base_uri": "https://localhost:8080/"
        },
        "id": "USu-h5OrIm3P",
        "outputId": "6c04ca9d-7237-442c-98eb-c08e18f0284a"
      },
      "source": [
        "stop = stopwords.words('english')\n",
        "fake_news_final['clean_text'] = fake_news_final['clean_text'].apply(lambda x : ' '.join([word for word in x.split() if word not in (stop)]))\n",
        "real_news_final['clean_text'] = real_news_final['clean_text'].apply(lambda x : ' '.join([word for word in x.split() if word not in (stop)]))"
      ],
      "execution_count": null,
      "outputs": [
        {
          "output_type": "stream",
          "text": [
            "/usr/local/lib/python3.7/dist-packages/ipykernel_launcher.py:2: SettingWithCopyWarning:\n",
            "\n",
            "\n",
            "A value is trying to be set on a copy of a slice from a DataFrame.\n",
            "Try using .loc[row_indexer,col_indexer] = value instead\n",
            "\n",
            "See the caveats in the documentation: https://pandas.pydata.org/pandas-docs/stable/user_guide/indexing.html#returning-a-view-versus-a-copy\n",
            "\n",
            "/usr/local/lib/python3.7/dist-packages/ipykernel_launcher.py:3: SettingWithCopyWarning:\n",
            "\n",
            "\n",
            "A value is trying to be set on a copy of a slice from a DataFrame.\n",
            "Try using .loc[row_indexer,col_indexer] = value instead\n",
            "\n",
            "See the caveats in the documentation: https://pandas.pydata.org/pandas-docs/stable/user_guide/indexing.html#returning-a-view-versus-a-copy\n",
            "\n"
          ],
          "name": "stderr"
        }
      ]
    },
    {
      "cell_type": "markdown",
      "metadata": {
        "id": "2f0GHc8ixoJM"
      },
      "source": [
        "From initial analysis, it appeared the tagnames realdonaldtrump, hillaryclinton and electionnight were heavily skewing the results in both type of text. Thus, we removed these in order to gain more meaningful insights"
      ]
    },
    {
      "cell_type": "code",
      "metadata": {
        "colab": {
          "base_uri": "https://localhost:8080/"
        },
        "id": "5tdjRX5kakK2",
        "outputId": "223a6c41-0ca8-4b1d-aa1c-92872875d1d7"
      },
      "source": [
        "import re\n",
        "def filternames(text):\n",
        "  newtext = text.replace('realdonaldtrump', '').replace('hillaryclinton', '').replace('electionnight', '').replace('electionday', '').replace('myvote2016', '')\n",
        "  #remove all numbers\n",
        "  newtext = re.sub(r'\\w*\\d\\w*', '', newtext)\n",
        "  #remove urls\n",
        "  newtext = re.sub(r'http\\S+', '', newtext)\n",
        "  return newtext\n",
        "\n",
        "fake_news_final['clean_text'] = fake_news_final['clean_text'].apply(lambda x : filternames(x))\n",
        "real_news_final['clean_text'] = real_news_final['clean_text'].apply(lambda x : filternames(x))"
      ],
      "execution_count": null,
      "outputs": [
        {
          "output_type": "stream",
          "text": [
            "/usr/local/lib/python3.7/dist-packages/ipykernel_launcher.py:9: SettingWithCopyWarning:\n",
            "\n",
            "\n",
            "A value is trying to be set on a copy of a slice from a DataFrame.\n",
            "Try using .loc[row_indexer,col_indexer] = value instead\n",
            "\n",
            "See the caveats in the documentation: https://pandas.pydata.org/pandas-docs/stable/user_guide/indexing.html#returning-a-view-versus-a-copy\n",
            "\n",
            "/usr/local/lib/python3.7/dist-packages/ipykernel_launcher.py:10: SettingWithCopyWarning:\n",
            "\n",
            "\n",
            "A value is trying to be set on a copy of a slice from a DataFrame.\n",
            "Try using .loc[row_indexer,col_indexer] = value instead\n",
            "\n",
            "See the caveats in the documentation: https://pandas.pydata.org/pandas-docs/stable/user_guide/indexing.html#returning-a-view-versus-a-copy\n",
            "\n"
          ],
          "name": "stderr"
        }
      ]
    },
    {
      "cell_type": "markdown",
      "metadata": {
        "id": "UkJWcYTJKktL"
      },
      "source": [
        "Now that our text is cleaned up, we want to add sentiment and polarity scores to them to get a better idea of what the text is like"
      ]
    },
    {
      "cell_type": "code",
      "metadata": {
        "colab": {
          "base_uri": "https://localhost:8080/"
        },
        "id": "Pyzwf_DOI790",
        "outputId": "a6a26a41-108a-4fa2-b86e-d0f1d248f2bd"
      },
      "source": [
        "def analyze_polarity(tweet):\n",
        "  analysis = TextBlob(tweet)\n",
        "  return analysis.sentiment.polarity\n",
        "\n",
        "def analyze_subjectivity(tweet):\n",
        "  analysis = TextBlob(tweet)\n",
        "  return analysis.sentiment.subjectivity\n",
        "\n",
        "fake_news_final['polarity'] = fake_news_final['clean_text'].apply(lambda x : analyze_polarity(x))\n",
        "fake_news_final['subjectivity'] = fake_news_final['clean_text'].apply(lambda x : analyze_subjectivity(x))\n",
        "real_news_final['polarity'] = real_news_final['clean_text'].apply(lambda x : analyze_polarity(x))\n",
        "real_news_final['subjectivity'] = real_news_final['clean_text'].apply(lambda x : analyze_subjectivity(x))"
      ],
      "execution_count": null,
      "outputs": [
        {
          "output_type": "stream",
          "text": [
            "/usr/local/lib/python3.7/dist-packages/ipykernel_launcher.py:9: SettingWithCopyWarning:\n",
            "\n",
            "\n",
            "A value is trying to be set on a copy of a slice from a DataFrame.\n",
            "Try using .loc[row_indexer,col_indexer] = value instead\n",
            "\n",
            "See the caveats in the documentation: https://pandas.pydata.org/pandas-docs/stable/user_guide/indexing.html#returning-a-view-versus-a-copy\n",
            "\n",
            "/usr/local/lib/python3.7/dist-packages/ipykernel_launcher.py:10: SettingWithCopyWarning:\n",
            "\n",
            "\n",
            "A value is trying to be set on a copy of a slice from a DataFrame.\n",
            "Try using .loc[row_indexer,col_indexer] = value instead\n",
            "\n",
            "See the caveats in the documentation: https://pandas.pydata.org/pandas-docs/stable/user_guide/indexing.html#returning-a-view-versus-a-copy\n",
            "\n",
            "/usr/local/lib/python3.7/dist-packages/ipykernel_launcher.py:11: SettingWithCopyWarning:\n",
            "\n",
            "\n",
            "A value is trying to be set on a copy of a slice from a DataFrame.\n",
            "Try using .loc[row_indexer,col_indexer] = value instead\n",
            "\n",
            "See the caveats in the documentation: https://pandas.pydata.org/pandas-docs/stable/user_guide/indexing.html#returning-a-view-versus-a-copy\n",
            "\n",
            "/usr/local/lib/python3.7/dist-packages/ipykernel_launcher.py:12: SettingWithCopyWarning:\n",
            "\n",
            "\n",
            "A value is trying to be set on a copy of a slice from a DataFrame.\n",
            "Try using .loc[row_indexer,col_indexer] = value instead\n",
            "\n",
            "See the caveats in the documentation: https://pandas.pydata.org/pandas-docs/stable/user_guide/indexing.html#returning-a-view-versus-a-copy\n",
            "\n"
          ],
          "name": "stderr"
        }
      ]
    },
    {
      "cell_type": "markdown",
      "metadata": {
        "id": "PZsDNldfyVh-"
      },
      "source": [
        "We will define \"sucessful fake news\" as any news with retweet count above the median retweet count of all post. We choose median instead of mean since there's a chance that the mean is heavily skewed based on a single popular tweet"
      ]
    },
    {
      "cell_type": "code",
      "metadata": {
        "id": "H9nUM3aKMcYE"
      },
      "source": [
        "threshold = fake_news_final['retweet_count'].median()\n",
        "real_news_top = real_news_final[real_news_final['retweet_count'] > threshold]\n",
        "fake_news_top = fake_news_final[fake_news_final['retweet_count'] > threshold]"
      ],
      "execution_count": null,
      "outputs": []
    },
    {
      "cell_type": "markdown",
      "metadata": {
        "id": "vuYOQ9myPTkG"
      },
      "source": [
        "As seen below the most prominent fakenews words are derived from realdonaldtrump and hillaryclinton. If we look closer though we notice some interesting phrases and words such as \"please simpson\" \"wikileaks\" and\"racism\" to name a few"
      ]
    },
    {
      "cell_type": "code",
      "metadata": {
        "colab": {
          "base_uri": "https://localhost:8080/",
          "height": 380
        },
        "id": "hlp8HSb7MewQ",
        "outputId": "6cc385e5-060f-49b1-806e-cff01c7b20ca"
      },
      "source": [
        "all_words = ' '.join([text for text in fake_news_final.clean_text])\n",
        "wordcloud = WordCloud(width= 800, height= 500,\n",
        "                          max_font_size = 110,\n",
        "                          collocations = False).generate(all_words)\n",
        "plt.figure(figsize=(10,7))\n",
        "plt.imshow(wordcloud, interpolation='bilinear')\n",
        "plt.axis(\"off\")\n",
        "plt.show()"
      ],
      "execution_count": null,
      "outputs": [
        {
          "output_type": "display_data",
          "data": {
            "image/png": "[encoded data removed]",
            "text/plain": [
              "<Figure size 720x504 with 1 Axes>"
            ]
          },
          "metadata": {
            "tags": [],
            "needs_background": "light"
          }
        }
      ]
    },
    {
      "cell_type": "code",
      "metadata": {
        "id": "ufWsxxC5EsU5"
      },
      "source": [
        "\n",
        "from sklearn.feature_extraction.text import CountVectorizer\n",
        "# Define helper functions\n",
        "def get_top_n_words(n_top_words, count_vectorizer, text_data):\n",
        "    '''\n",
        "    returns a tuple of the top n words in a sample and their \n",
        "    accompanying counts, given a CountVectorizer object and text sample\n",
        "    '''\n",
        "    vectorized_headlines = count_vectorizer.fit_transform(text_data.values)\n",
        "    vectorized_total = np.sum(vectorized_headlines, axis=0)\n",
        "    word_indices = np.flip(np.argsort(vectorized_total)[0,:], 1)\n",
        "    word_values = np.flip(np.sort(vectorized_total)[0,:],1)\n",
        "    \n",
        "    word_vectors = np.zeros((n_top_words, vectorized_headlines.shape[1]))\n",
        "    for i in range(n_top_words):\n",
        "        word_vectors[i,word_indices[0,i]] = 1\n",
        "\n",
        "    words = [word[0].encode('ascii',errors=\"ignore\").decode('utf-8',errors=\"ignore\") for \n",
        "             word in count_vectorizer.inverse_transform(word_vectors)]\n",
        "\n",
        "    return (words, word_values[0,:n_top_words].tolist()[0])\n",
        "\n"
      ],
      "execution_count": null,
      "outputs": []
    },
    {
      "cell_type": "code",
      "metadata": {
        "colab": {
          "base_uri": "https://localhost:8080/",
          "height": 337
        },
        "id": "TBfhv1cpFHbt",
        "outputId": "9f84ea37-fdf9-4856-8ffe-5626403810c6"
      },
      "source": [
        "count_vectorizer = CountVectorizer(stop_words='english')\n",
        "words, word_values = get_top_n_words(n_top_words=25,\n",
        "                                     count_vectorizer=count_vectorizer, \n",
        "                                     text_data=fake_news_top['clean_text'])\n",
        "\n",
        "fig, ax = plt.subplots(figsize=(10,4))\n",
        "ax.bar(range(len(words)), word_values);\n",
        "ax.set_xticks(range(len(words)));\n",
        "ax.set_xticklabels(words, rotation='vertical');\n",
        "ax.set_title('Top words in Fake News Dataset (excluding stop words)');\n",
        "ax.set_xlabel('Word');\n",
        "ax.set_ylabel('Number of occurences');\n",
        "plt.show()"
      ],
      "execution_count": null,
      "outputs": [
        {
          "output_type": "display_data",
          "data": {
            "image/png": "[encoded data removed]",
            "text/plain": [
              "<Figure size 720x288 with 1 Axes>"
            ]
          },
          "metadata": {
            "tags": [],
            "needs_background": "light"
          }
        }
      ]
    },
    {
      "cell_type": "markdown",
      "metadata": {
        "id": "bWdl6drxSCTp"
      },
      "source": [
        "### Topic Modeling"
      ]
    },
    {
      "cell_type": "code",
      "metadata": {
        "colab": {
          "base_uri": "https://localhost:8080/"
        },
        "id": "fNhHD8GPZ268",
        "outputId": "ddc2dd03-ef72-4d7f-e1f7-8435b625ab08"
      },
      "source": [
        "from sklearn.decomposition import LatentDirichletAllocation\n",
        "vectorizer = CountVectorizer(\n",
        "analyzer='word',       \n",
        "min_df=3,# minimum required occurences of a word \n",
        "stop_words='english',# remove stop words\n",
        "lowercase=True,# convert all words to lowercase\n",
        "token_pattern='[a-zA-Z0-9]{3,}',# num chars > 3\n",
        "max_features=5000,# max number of unique words\n",
        "                            )\n",
        "data_matrix = vectorizer.fit_transform(fake_news_top['clean_text'])\n",
        "data_matrix"
      ],
      "execution_count": null,
      "outputs": [
        {
          "output_type": "execute_result",
          "data": {
            "text/plain": [
              "<987x572 sparse matrix of type '<class 'numpy.int64'>'\n",
              "\twith 3882 stored elements in Compressed Sparse Row format>"
            ]
          },
          "metadata": {
            "tags": []
          },
          "execution_count": 25
        }
      ]
    },
    {
      "cell_type": "code",
      "metadata": {
        "id": "8HUWoPrkfcoH"
      },
      "source": [
        "lda_model = LatentDirichletAllocation(\n",
        "n_components=10, # Number of topics\n",
        "learning_method='online',\n",
        "random_state=10,       \n",
        "n_jobs = -1  # Use all available CPUs\n",
        "                                     )\n",
        "lda_output = lda_model.fit_transform(data_matrix)"
      ],
      "execution_count": null,
      "outputs": []
    },
    {
      "cell_type": "code",
      "metadata": {
        "colab": {
          "base_uri": "https://localhost:8080/"
        },
        "id": "f7SWuynGfexH",
        "outputId": "6738ddc0-e545-477f-8938-9381a3124db8"
      },
      "source": [
        "topics_list = []\n",
        "for i,topic in enumerate(lda_model.components_):\n",
        "  x = [vectorizer.get_feature_names()[i] for i in topic.argsort()[-10:]]\n",
        "  print(f'Top 10 words for topic #{i}:')\n",
        "  print(x)\n",
        "  topics_list.append(x)\n",
        "  print('\\n') "
      ],
      "execution_count": null,
      "outputs": [
        {
          "output_type": "stream",
          "text": [
            "Top 10 words for topic #0:\n",
            "['muslim', 'elected', 'media', 'stop', 'american', 'said', 'twitter', 'americans', 'potus', 'people']\n",
            "\n",
            "\n",
            "Top 10 words for topic #1:\n",
            "['new', 'got', 'great', 'black', 'let', 'cnn', 'trump', 'dont', 'like', 'amp']\n",
            "\n",
            "\n",
            "Top 10 words for topic #2:\n",
            "['mikepence', 'know', 'shes', 'question', 'lives', 'criminal', 'fbi', 'clinton', 'hillary', 'media']\n",
            "\n",
            "\n",
            "Top 10 words for topic #3:\n",
            "['hace', 'god', 'truth', 'climate', 'start', 'tweet', 'los', 'change', 'want', 'simpsons']\n",
            "\n",
            "\n",
            "Top 10 words for topic #4:\n",
            "['time', 'usa', 'term', 'dnc', 'state', 'woman', 'trumps', 'news', 'country', 'breaking']\n",
            "\n",
            "\n",
            "Top 10 words for topic #5:\n",
            "['voted', 'clinton', 'hate', 'obama', 'donald', 'hillary', 'vote', 'president', 'america', 'trump']\n",
            "\n",
            "\n",
            "Top 10 words for topic #6:\n",
            "['fear', 'different', 'didnt', 'video', 'today', 'sexism', 'emails', 'day', 'racism', 'campaign']\n",
            "\n",
            "\n",
            "Top 10 words for topic #7:\n",
            "['inauguration', 'actually', 'thats', 'real', 'trying', 'guy', 'new', 'house', 'white', 'amp']\n",
            "\n",
            "\n",
            "Top 10 words for topic #8:\n",
            "['tell', 'times', 'maga', 'debate', 'paypal', 'thank', 'rts', 'ill', 'hillary', 'wins']\n",
            "\n",
            "\n",
            "Top 10 words for topic #9:\n",
            "['voting', 'states', 'history', 'going', 'florida', 'united', 'que', 'man', 'time', 'right']\n",
            "\n",
            "\n"
          ],
          "name": "stdout"
        }
      ]
    },
    {
      "cell_type": "code",
      "metadata": {
        "id": "LZ2U6NgeTDEZ"
      },
      "source": [
        "sentences = []\n",
        "i = 1\n",
        "for words in topics_list:\n",
        "  sentence = ''\n",
        "  for x in words: \n",
        "    sentence = sentence + ' ' + x\n",
        "  sentences.append(f\"Topic {i}: \" + sentence)\n",
        "  i = i + 1"
      ],
      "execution_count": null,
      "outputs": []
    },
    {
      "cell_type": "code",
      "metadata": {
        "colab": {
          "base_uri": "https://localhost:8080/",
          "height": 542
        },
        "id": "4hj5ziGtT_po",
        "outputId": "caf2933b-cf01-47ce-87e0-1ce7bfb2d3f3"
      },
      "source": [
        "import plotly.graph_objects as go\n",
        "fig = go.Figure(data=[go.Table(header=dict(values=['Topics']),\n",
        "                 cells=dict(values=[sentences]))])\n",
        "fig.show()"
      ],
      "execution_count": null,
      "outputs": [
        {
          "output_type": "display_data",
          "data": {
            "text/html": [
              "<html>\n",
              "<head><meta charset=\"utf-8\" /></head>\n",
              "<body>\n",
              "    <div>\n",
              "            <script src=\"https://cdnjs.cloudflare.com/ajax/libs/mathjax/2.7.5/MathJax.js?config=TeX-AMS-MML_SVG\"></script><script type=\"text/javascript\">if (window.MathJax) {MathJax.Hub.Config({SVG: {font: \"STIX-Web\"}});}</script>\n",
              "                <script type=\"text/javascript\">window.PlotlyConfig = {MathJaxConfig: 'local'};</script>\n",
              "        <script src=\"https://cdn.plot.ly/plotly-latest.min.js\"></script>    \n",
              "            <div id=\"78bbc7a1-91c7-45aa-9690-d9648c1a1831\" class=\"plotly-graph-div\" style=\"height:525px; width:100%;\"></div>\n",
              "            <script type=\"text/javascript\">\n",
              "                \n",
              "                    window.PLOTLYENV=window.PLOTLYENV || {};\n",
              "                    \n",
              "                if (document.getElementById(\"78bbc7a1-91c7-45aa-9690-d9648c1a1831\")) {\n",
              "                    Plotly.newPlot(\n",
              "                        '78bbc7a1-91c7-45aa-9690-d9648c1a1831',\n",
              "                        [{\"cells\": {\"values\": [[\"Topic 1:  muslim elected media stop american said twitter americans potus people\", \"Topic 2:  new got great black let cnn trump dont like amp\", \"Topic 3:  mikepence know shes question lives criminal fbi clinton hillary media\", \"Topic 4:  hace god truth climate start tweet los change want simpsons\", \"Topic 5:  time usa term dnc state woman trumps news country breaking\", \"Topic 6:  voted clinton hate obama donald hillary vote president america trump\", \"Topic 7:  fear different didnt video today sexism emails day racism campaign\", \"Topic 8:  inauguration actually thats real trying guy new house white amp\", \"Topic 9:  tell times maga debate paypal thank rts ill hillary wins\", \"Topic 10:  voting states history going florida united que man time right\"]]}, \"header\": {\"values\": [\"Topics\"]}, \"type\": \"table\"}],\n",
              "                        {\"template\": {\"data\": {\"bar\": [{\"error_x\": {\"color\": \"#2a3f5f\"}, \"error_y\": {\"color\": \"#2a3f5f\"}, \"marker\": {\"line\": {\"color\": \"#E5ECF6\", \"width\": 0.5}}, \"type\": \"bar\"}], \"barpolar\": [{\"marker\": {\"line\": {\"color\": \"#E5ECF6\", \"width\": 0.5}}, \"type\": \"barpolar\"}], \"carpet\": [{\"aaxis\": {\"endlinecolor\": \"#2a3f5f\", \"gridcolor\": \"white\", \"linecolor\": \"white\", \"minorgridcolor\": \"white\", \"startlinecolor\": \"#2a3f5f\"}, \"baxis\": {\"endlinecolor\": \"#2a3f5f\", \"gridcolor\": \"white\", \"linecolor\": \"white\", \"minorgridcolor\": \"white\", \"startlinecolor\": \"#2a3f5f\"}, \"type\": \"carpet\"}], \"choropleth\": [{\"colorbar\": {\"outlinewidth\": 0, \"ticks\": \"\"}, \"type\": \"choropleth\"}], \"contour\": [{\"colorbar\": {\"outlinewidth\": 0, \"ticks\": \"\"}, \"colorscale\": [[0.0, \"#0d0887\"], [0.1111111111111111, \"#46039f\"], [0.2222222222222222, \"#7201a8\"], [0.3333333333333333, \"#9c179e\"], [0.4444444444444444, \"#bd3786\"], [0.5555555555555556, \"#d8576b\"], [0.6666666666666666, \"#ed7953\"], [0.7777777777777778, \"#fb9f3a\"], [0.8888888888888888, \"#fdca26\"], [1.0, \"#f0f921\"]], \"type\": \"contour\"}], \"contourcarpet\": [{\"colorbar\": {\"outlinewidth\": 0, \"ticks\": \"\"}, \"type\": \"contourcarpet\"}], \"heatmap\": [{\"colorbar\": {\"outlinewidth\": 0, \"ticks\": \"\"}, \"colorscale\": [[0.0, \"#0d0887\"], [0.1111111111111111, \"#46039f\"], [0.2222222222222222, \"#7201a8\"], [0.3333333333333333, \"#9c179e\"], [0.4444444444444444, \"#bd3786\"], [0.5555555555555556, \"#d8576b\"], [0.6666666666666666, \"#ed7953\"], [0.7777777777777778, \"#fb9f3a\"], [0.8888888888888888, \"#fdca26\"], [1.0, \"#f0f921\"]], \"type\": \"heatmap\"}], \"heatmapgl\": [{\"colorbar\": {\"outlinewidth\": 0, \"ticks\": \"\"}, \"colorscale\": [[0.0, \"#0d0887\"], [0.1111111111111111, \"#46039f\"], [0.2222222222222222, \"#7201a8\"], [0.3333333333333333, \"#9c179e\"], [0.4444444444444444, \"#bd3786\"], [0.5555555555555556, \"#d8576b\"], [0.6666666666666666, \"#ed7953\"], [0.7777777777777778, \"#fb9f3a\"], [0.8888888888888888, \"#fdca26\"], [1.0, \"#f0f921\"]], \"type\": \"heatmapgl\"}], \"histogram\": [{\"marker\": {\"colorbar\": {\"outlinewidth\": 0, \"ticks\": \"\"}}, \"type\": \"histogram\"}], \"histogram2d\": [{\"colorbar\": {\"outlinewidth\": 0, \"ticks\": \"\"}, \"colorscale\": [[0.0, \"#0d0887\"], [0.1111111111111111, \"#46039f\"], [0.2222222222222222, \"#7201a8\"], [0.3333333333333333, \"#9c179e\"], [0.4444444444444444, \"#bd3786\"], [0.5555555555555556, \"#d8576b\"], [0.6666666666666666, \"#ed7953\"], [0.7777777777777778, \"#fb9f3a\"], [0.8888888888888888, \"#fdca26\"], [1.0, \"#f0f921\"]], \"type\": \"histogram2d\"}], \"histogram2dcontour\": [{\"colorbar\": {\"outlinewidth\": 0, \"ticks\": \"\"}, \"colorscale\": [[0.0, \"#0d0887\"], [0.1111111111111111, \"#46039f\"], [0.2222222222222222, \"#7201a8\"], [0.3333333333333333, \"#9c179e\"], [0.4444444444444444, \"#bd3786\"], [0.5555555555555556, \"#d8576b\"], [0.6666666666666666, \"#ed7953\"], [0.7777777777777778, \"#fb9f3a\"], [0.8888888888888888, \"#fdca26\"], [1.0, \"#f0f921\"]], \"type\": \"histogram2dcontour\"}], \"mesh3d\": [{\"colorbar\": {\"outlinewidth\": 0, \"ticks\": \"\"}, \"type\": \"mesh3d\"}], \"parcoords\": [{\"line\": {\"colorbar\": {\"outlinewidth\": 0, \"ticks\": \"\"}}, \"type\": \"parcoords\"}], \"pie\": [{\"automargin\": true, \"type\": \"pie\"}], \"scatter\": [{\"marker\": {\"colorbar\": {\"outlinewidth\": 0, \"ticks\": \"\"}}, \"type\": \"scatter\"}], \"scatter3d\": [{\"line\": {\"colorbar\": {\"outlinewidth\": 0, \"ticks\": \"\"}}, \"marker\": {\"colorbar\": {\"outlinewidth\": 0, \"ticks\": \"\"}}, \"type\": \"scatter3d\"}], \"scattercarpet\": [{\"marker\": {\"colorbar\": {\"outlinewidth\": 0, \"ticks\": \"\"}}, \"type\": \"scattercarpet\"}], \"scattergeo\": [{\"marker\": {\"colorbar\": {\"outlinewidth\": 0, \"ticks\": \"\"}}, \"type\": \"scattergeo\"}], \"scattergl\": [{\"marker\": {\"colorbar\": {\"outlinewidth\": 0, \"ticks\": \"\"}}, \"type\": \"scattergl\"}], \"scattermapbox\": [{\"marker\": {\"colorbar\": {\"outlinewidth\": 0, \"ticks\": \"\"}}, \"type\": \"scattermapbox\"}], \"scatterpolar\": [{\"marker\": {\"colorbar\": {\"outlinewidth\": 0, \"ticks\": \"\"}}, \"type\": \"scatterpolar\"}], \"scatterpolargl\": [{\"marker\": {\"colorbar\": {\"outlinewidth\": 0, \"ticks\": \"\"}}, \"type\": \"scatterpolargl\"}], \"scatterternary\": [{\"marker\": {\"colorbar\": {\"outlinewidth\": 0, \"ticks\": \"\"}}, \"type\": \"scatterternary\"}], \"surface\": [{\"colorbar\": {\"outlinewidth\": 0, \"ticks\": \"\"}, \"colorscale\": [[0.0, \"#0d0887\"], [0.1111111111111111, \"#46039f\"], [0.2222222222222222, \"#7201a8\"], [0.3333333333333333, \"#9c179e\"], [0.4444444444444444, \"#bd3786\"], [0.5555555555555556, \"#d8576b\"], [0.6666666666666666, \"#ed7953\"], [0.7777777777777778, \"#fb9f3a\"], [0.8888888888888888, \"#fdca26\"], [1.0, \"#f0f921\"]], \"type\": \"surface\"}], \"table\": [{\"cells\": {\"fill\": {\"color\": \"#EBF0F8\"}, \"line\": {\"color\": \"white\"}}, \"header\": {\"fill\": {\"color\": \"#C8D4E3\"}, \"line\": {\"color\": \"white\"}}, \"type\": \"table\"}]}, \"layout\": {\"annotationdefaults\": {\"arrowcolor\": \"#2a3f5f\", \"arrowhead\": 0, \"arrowwidth\": 1}, \"coloraxis\": {\"colorbar\": {\"outlinewidth\": 0, \"ticks\": \"\"}}, \"colorscale\": {\"diverging\": [[0, \"#8e0152\"], [0.1, \"#c51b7d\"], [0.2, \"#de77ae\"], [0.3, \"#f1b6da\"], [0.4, \"#fde0ef\"], [0.5, \"#f7f7f7\"], [0.6, \"#e6f5d0\"], [0.7, \"#b8e186\"], [0.8, \"#7fbc41\"], [0.9, \"#4d9221\"], [1, \"#276419\"]], \"sequential\": [[0.0, \"#0d0887\"], [0.1111111111111111, \"#46039f\"], [0.2222222222222222, \"#7201a8\"], [0.3333333333333333, \"#9c179e\"], [0.4444444444444444, \"#bd3786\"], [0.5555555555555556, \"#d8576b\"], [0.6666666666666666, \"#ed7953\"], [0.7777777777777778, \"#fb9f3a\"], [0.8888888888888888, \"#fdca26\"], [1.0, \"#f0f921\"]], \"sequentialminus\": [[0.0, \"#0d0887\"], [0.1111111111111111, \"#46039f\"], [0.2222222222222222, \"#7201a8\"], [0.3333333333333333, \"#9c179e\"], [0.4444444444444444, \"#bd3786\"], [0.5555555555555556, \"#d8576b\"], [0.6666666666666666, \"#ed7953\"], [0.7777777777777778, \"#fb9f3a\"], [0.8888888888888888, \"#fdca26\"], [1.0, \"#f0f921\"]]}, \"colorway\": [\"#636efa\", \"#EF553B\", \"#00cc96\", \"#ab63fa\", \"#FFA15A\", \"#19d3f3\", \"#FF6692\", \"#B6E880\", \"#FF97FF\", \"#FECB52\"], \"font\": {\"color\": \"#2a3f5f\"}, \"geo\": {\"bgcolor\": \"white\", \"lakecolor\": \"white\", \"landcolor\": \"#E5ECF6\", \"showlakes\": true, \"showland\": true, \"subunitcolor\": \"white\"}, \"hoverlabel\": {\"align\": \"left\"}, \"hovermode\": \"closest\", \"mapbox\": {\"style\": \"light\"}, \"paper_bgcolor\": \"white\", \"plot_bgcolor\": \"#E5ECF6\", \"polar\": {\"angularaxis\": {\"gridcolor\": \"white\", \"linecolor\": \"white\", \"ticks\": \"\"}, \"bgcolor\": \"#E5ECF6\", \"radialaxis\": {\"gridcolor\": \"white\", \"linecolor\": \"white\", \"ticks\": \"\"}}, \"scene\": {\"xaxis\": {\"backgroundcolor\": \"#E5ECF6\", \"gridcolor\": \"white\", \"gridwidth\": 2, \"linecolor\": \"white\", \"showbackground\": true, \"ticks\": \"\", \"zerolinecolor\": \"white\"}, \"yaxis\": {\"backgroundcolor\": \"#E5ECF6\", \"gridcolor\": \"white\", \"gridwidth\": 2, \"linecolor\": \"white\", \"showbackground\": true, \"ticks\": \"\", \"zerolinecolor\": \"white\"}, \"zaxis\": {\"backgroundcolor\": \"#E5ECF6\", \"gridcolor\": \"white\", \"gridwidth\": 2, \"linecolor\": \"white\", \"showbackground\": true, \"ticks\": \"\", \"zerolinecolor\": \"white\"}}, \"shapedefaults\": {\"line\": {\"color\": \"#2a3f5f\"}}, \"ternary\": {\"aaxis\": {\"gridcolor\": \"white\", \"linecolor\": \"white\", \"ticks\": \"\"}, \"baxis\": {\"gridcolor\": \"white\", \"linecolor\": \"white\", \"ticks\": \"\"}, \"bgcolor\": \"#E5ECF6\", \"caxis\": {\"gridcolor\": \"white\", \"linecolor\": \"white\", \"ticks\": \"\"}}, \"title\": {\"x\": 0.05}, \"xaxis\": {\"automargin\": true, \"gridcolor\": \"white\", \"linecolor\": \"white\", \"ticks\": \"\", \"title\": {\"standoff\": 15}, \"zerolinecolor\": \"white\", \"zerolinewidth\": 2}, \"yaxis\": {\"automargin\": true, \"gridcolor\": \"white\", \"linecolor\": \"white\", \"ticks\": \"\", \"title\": {\"standoff\": 15}, \"zerolinecolor\": \"white\", \"zerolinewidth\": 2}}}},\n",
              "                        {\"responsive\": true}\n",
              "                    ).then(function(){\n",
              "                            \n",
              "var gd = document.getElementById('78bbc7a1-91c7-45aa-9690-d9648c1a1831');\n",
              "var x = new MutationObserver(function (mutations, observer) {{\n",
              "        var display = window.getComputedStyle(gd).display;\n",
              "        if (!display || display === 'none') {{\n",
              "            console.log([gd, 'removed!']);\n",
              "            Plotly.purge(gd);\n",
              "            observer.disconnect();\n",
              "        }}\n",
              "}});\n",
              "\n",
              "// Listen for the removal of the full notebook cells\n",
              "var notebookContainer = gd.closest('#notebook-container');\n",
              "if (notebookContainer) {{\n",
              "    x.observe(notebookContainer, {childList: true});\n",
              "}}\n",
              "\n",
              "// Listen for the clearing of the current output cell\n",
              "var outputEl = gd.closest('.output');\n",
              "if (outputEl) {{\n",
              "    x.observe(outputEl, {childList: true});\n",
              "}}\n",
              "\n",
              "                        })\n",
              "                };\n",
              "                \n",
              "            </script>\n",
              "        </div>\n",
              "</body>\n",
              "</html>"
            ]
          },
          "metadata": {
            "tags": []
          }
        }
      ]
    },
    {
      "cell_type": "markdown",
      "metadata": {
        "id": "tpF-td012St8"
      },
      "source": [
        "### Who posts the most fake news?"
      ]
    },
    {
      "cell_type": "markdown",
      "metadata": {
        "id": "bt7t6bRs2t7O"
      },
      "source": [
        "First lets see who post the most amount of \"fakes news\""
      ]
    },
    {
      "cell_type": "code",
      "metadata": {
        "id": "rKgekQyR2WE5"
      },
      "source": [
        "fake_sum = fake_news_top.groupby(by=['user_screen_name']).mean().reset_index()[['user_screen_name','retweet_count', 'user_followers_count']]\n",
        "fake_total = fake_news_top.groupby(by=['user_screen_name']).size().reset_index(name=\"post_count\").sort_values(by=\"post_count\", ascending=False)"
      ],
      "execution_count": null,
      "outputs": []
    },
    {
      "cell_type": "code",
      "metadata": {
        "colab": {
          "base_uri": "https://localhost:8080/",
          "height": 359
        },
        "id": "LhwUp5tr2f5g",
        "outputId": "f2757f61-bcee-4232-9213-fd494fe5d8a7"
      },
      "source": [
        "fake_combo = fake_total.merge(fake_sum, on=\"user_screen_name\")\n",
        "fake_combo.sort_values(by=[\"post_count\"], ascending=False).head(10)"
      ],
      "execution_count": null,
      "outputs": [
        {
          "output_type": "execute_result",
          "data": {
            "text/html": [
              "<div>\n",
              "<style scoped>\n",
              "    .dataframe tbody tr th:only-of-type {\n",
              "        vertical-align: middle;\n",
              "    }\n",
              "\n",
              "    .dataframe tbody tr th {\n",
              "        vertical-align: top;\n",
              "    }\n",
              "\n",
              "    .dataframe thead th {\n",
              "        text-align: right;\n",
              "    }\n",
              "</style>\n",
              "<table border=\"1\" class=\"dataframe\">\n",
              "  <thead>\n",
              "    <tr style=\"text-align: right;\">\n",
              "      <th></th>\n",
              "      <th>user_screen_name</th>\n",
              "      <th>post_count</th>\n",
              "      <th>retweet_count</th>\n",
              "      <th>user_followers_count</th>\n",
              "    </tr>\n",
              "  </thead>\n",
              "  <tbody>\n",
              "    <tr>\n",
              "      <th>0</th>\n",
              "      <td>realDonaldTrump</td>\n",
              "      <td>62</td>\n",
              "      <td>5977.419355</td>\n",
              "      <td>1.749375e+07</td>\n",
              "    </tr>\n",
              "    <tr>\n",
              "      <th>1</th>\n",
              "      <td>JamesOKeefeIII</td>\n",
              "      <td>30</td>\n",
              "      <td>5798.733333</td>\n",
              "      <td>2.193511e+05</td>\n",
              "    </tr>\n",
              "    <tr>\n",
              "      <th>2</th>\n",
              "      <td>FoxNews</td>\n",
              "      <td>19</td>\n",
              "      <td>2987.000000</td>\n",
              "      <td>1.196921e+07</td>\n",
              "    </tr>\n",
              "    <tr>\n",
              "      <th>3</th>\n",
              "      <td>DineshDSouza</td>\n",
              "      <td>17</td>\n",
              "      <td>2611.352941</td>\n",
              "      <td>4.127712e+05</td>\n",
              "    </tr>\n",
              "    <tr>\n",
              "      <th>4</th>\n",
              "      <td>SheriffClarke</td>\n",
              "      <td>16</td>\n",
              "      <td>5430.000000</td>\n",
              "      <td>4.220609e+05</td>\n",
              "    </tr>\n",
              "    <tr>\n",
              "      <th>5</th>\n",
              "      <td>PrisonPlanet</td>\n",
              "      <td>16</td>\n",
              "      <td>3357.187500</td>\n",
              "      <td>3.367709e+05</td>\n",
              "    </tr>\n",
              "    <tr>\n",
              "      <th>6</th>\n",
              "      <td>DanScavino</td>\n",
              "      <td>16</td>\n",
              "      <td>3419.437500</td>\n",
              "      <td>2.299974e+05</td>\n",
              "    </tr>\n",
              "    <tr>\n",
              "      <th>7</th>\n",
              "      <td>Fahrenthold</td>\n",
              "      <td>15</td>\n",
              "      <td>5321.600000</td>\n",
              "      <td>2.289740e+05</td>\n",
              "    </tr>\n",
              "    <tr>\n",
              "      <th>8</th>\n",
              "      <td>elizabethforma</td>\n",
              "      <td>12</td>\n",
              "      <td>8171.166667</td>\n",
              "      <td>1.023658e+06</td>\n",
              "    </tr>\n",
              "    <tr>\n",
              "      <th>9</th>\n",
              "      <td>KellyannePolls</td>\n",
              "      <td>12</td>\n",
              "      <td>5035.000000</td>\n",
              "      <td>5.655594e+05</td>\n",
              "    </tr>\n",
              "  </tbody>\n",
              "</table>\n",
              "</div>"
            ],
            "text/plain": [
              "  user_screen_name  post_count  retweet_count  user_followers_count\n",
              "0  realDonaldTrump          62    5977.419355          1.749375e+07\n",
              "1   JamesOKeefeIII          30    5798.733333          2.193511e+05\n",
              "2          FoxNews          19    2987.000000          1.196921e+07\n",
              "3     DineshDSouza          17    2611.352941          4.127712e+05\n",
              "4    SheriffClarke          16    5430.000000          4.220609e+05\n",
              "5     PrisonPlanet          16    3357.187500          3.367709e+05\n",
              "6       DanScavino          16    3419.437500          2.299974e+05\n",
              "7      Fahrenthold          15    5321.600000          2.289740e+05\n",
              "8   elizabethforma          12    8171.166667          1.023658e+06\n",
              "9   KellyannePolls          12    5035.000000          5.655594e+05"
            ]
          },
          "metadata": {
            "tags": []
          },
          "execution_count": 31
        }
      ]
    },
    {
      "cell_type": "code",
      "metadata": {
        "colab": {
          "base_uri": "https://localhost:8080/",
          "height": 542
        },
        "id": "AFHBFSTs2lNB",
        "outputId": "0dcbbb94-e116-4a25-da94-1ffd0b1acbee"
      },
      "source": [
        "px.bar(fake_combo.head(10), x=\"user_screen_name\", y=\"post_count\")"
      ],
      "execution_count": null,
      "outputs": [
        {
          "output_type": "display_data",
          "data": {
            "text/html": [
              "<html>\n",
              "<head><meta charset=\"utf-8\" /></head>\n",
              "<body>\n",
              "    <div>\n",
              "            <script src=\"https://cdnjs.cloudflare.com/ajax/libs/mathjax/2.7.5/MathJax.js?config=TeX-AMS-MML_SVG\"></script><script type=\"text/javascript\">if (window.MathJax) {MathJax.Hub.Config({SVG: {font: \"STIX-Web\"}});}</script>\n",
              "                <script type=\"text/javascript\">window.PlotlyConfig = {MathJaxConfig: 'local'};</script>\n",
              "        <script src=\"https://cdn.plot.ly/plotly-latest.min.js\"></script>    \n",
              "            <div id=\"848f44f1-5e90-44d5-8839-3e89b5b3d035\" class=\"plotly-graph-div\" style=\"height:525px; width:100%;\"></div>\n",
              "            <script type=\"text/javascript\">\n",
              "                \n",
              "                    window.PLOTLYENV=window.PLOTLYENV || {};\n",
              "                    \n",
              "                if (document.getElementById(\"848f44f1-5e90-44d5-8839-3e89b5b3d035\")) {\n",
              "                    Plotly.newPlot(\n",
              "                        '848f44f1-5e90-44d5-8839-3e89b5b3d035',\n",
              "                        [{\"alignmentgroup\": \"True\", \"hoverlabel\": {\"namelength\": 0}, \"hovertemplate\": \"user_screen_name=%{x}<br>post_count=%{y}\", \"legendgroup\": \"\", \"marker\": {\"color\": \"#636efa\"}, \"name\": \"\", \"offsetgroup\": \"\", \"orientation\": \"v\", \"showlegend\": false, \"textposition\": \"auto\", \"type\": \"bar\", \"x\": [\"realDonaldTrump\", \"JamesOKeefeIII\", \"FoxNews\", \"DineshDSouza\", \"SheriffClarke\", \"PrisonPlanet\", \"DanScavino\", \"Fahrenthold\", \"elizabethforma\", \"KellyannePolls\"], \"xaxis\": \"x\", \"y\": [62, 30, 19, 17, 16, 16, 16, 15, 12, 12], \"yaxis\": \"y\"}],\n",
              "                        {\"barmode\": \"relative\", \"legend\": {\"tracegroupgap\": 0}, \"margin\": {\"t\": 60}, \"template\": {\"data\": {\"bar\": [{\"error_x\": {\"color\": \"#2a3f5f\"}, \"error_y\": {\"color\": \"#2a3f5f\"}, \"marker\": {\"line\": {\"color\": \"#E5ECF6\", \"width\": 0.5}}, \"type\": \"bar\"}], \"barpolar\": [{\"marker\": {\"line\": {\"color\": \"#E5ECF6\", \"width\": 0.5}}, \"type\": \"barpolar\"}], \"carpet\": [{\"aaxis\": {\"endlinecolor\": \"#2a3f5f\", \"gridcolor\": \"white\", \"linecolor\": \"white\", \"minorgridcolor\": \"white\", \"startlinecolor\": \"#2a3f5f\"}, \"baxis\": {\"endlinecolor\": \"#2a3f5f\", \"gridcolor\": \"white\", \"linecolor\": \"white\", \"minorgridcolor\": \"white\", \"startlinecolor\": \"#2a3f5f\"}, \"type\": \"carpet\"}], \"choropleth\": [{\"colorbar\": {\"outlinewidth\": 0, \"ticks\": \"\"}, \"type\": \"choropleth\"}], \"contour\": [{\"colorbar\": {\"outlinewidth\": 0, \"ticks\": \"\"}, \"colorscale\": [[0.0, \"#0d0887\"], [0.1111111111111111, \"#46039f\"], [0.2222222222222222, \"#7201a8\"], [0.3333333333333333, \"#9c179e\"], [0.4444444444444444, \"#bd3786\"], [0.5555555555555556, \"#d8576b\"], [0.6666666666666666, \"#ed7953\"], [0.7777777777777778, \"#fb9f3a\"], [0.8888888888888888, \"#fdca26\"], [1.0, \"#f0f921\"]], \"type\": \"contour\"}], \"contourcarpet\": [{\"colorbar\": {\"outlinewidth\": 0, \"ticks\": \"\"}, \"type\": \"contourcarpet\"}], \"heatmap\": [{\"colorbar\": {\"outlinewidth\": 0, \"ticks\": \"\"}, \"colorscale\": [[0.0, \"#0d0887\"], [0.1111111111111111, \"#46039f\"], [0.2222222222222222, \"#7201a8\"], [0.3333333333333333, \"#9c179e\"], [0.4444444444444444, \"#bd3786\"], [0.5555555555555556, \"#d8576b\"], [0.6666666666666666, \"#ed7953\"], [0.7777777777777778, \"#fb9f3a\"], [0.8888888888888888, \"#fdca26\"], [1.0, \"#f0f921\"]], \"type\": \"heatmap\"}], \"heatmapgl\": [{\"colorbar\": {\"outlinewidth\": 0, \"ticks\": \"\"}, \"colorscale\": [[0.0, \"#0d0887\"], [0.1111111111111111, \"#46039f\"], [0.2222222222222222, \"#7201a8\"], [0.3333333333333333, \"#9c179e\"], [0.4444444444444444, \"#bd3786\"], [0.5555555555555556, \"#d8576b\"], [0.6666666666666666, \"#ed7953\"], [0.7777777777777778, \"#fb9f3a\"], [0.8888888888888888, \"#fdca26\"], [1.0, \"#f0f921\"]], \"type\": \"heatmapgl\"}], \"histogram\": [{\"marker\": {\"colorbar\": {\"outlinewidth\": 0, \"ticks\": \"\"}}, \"type\": \"histogram\"}], \"histogram2d\": [{\"colorbar\": {\"outlinewidth\": 0, \"ticks\": \"\"}, \"colorscale\": [[0.0, \"#0d0887\"], [0.1111111111111111, \"#46039f\"], [0.2222222222222222, \"#7201a8\"], [0.3333333333333333, \"#9c179e\"], [0.4444444444444444, \"#bd3786\"], [0.5555555555555556, \"#d8576b\"], [0.6666666666666666, \"#ed7953\"], [0.7777777777777778, \"#fb9f3a\"], [0.8888888888888888, \"#fdca26\"], [1.0, \"#f0f921\"]], \"type\": \"histogram2d\"}], \"histogram2dcontour\": [{\"colorbar\": {\"outlinewidth\": 0, \"ticks\": \"\"}, \"colorscale\": [[0.0, \"#0d0887\"], [0.1111111111111111, \"#46039f\"], [0.2222222222222222, \"#7201a8\"], [0.3333333333333333, \"#9c179e\"], [0.4444444444444444, \"#bd3786\"], [0.5555555555555556, \"#d8576b\"], [0.6666666666666666, \"#ed7953\"], [0.7777777777777778, \"#fb9f3a\"], [0.8888888888888888, \"#fdca26\"], [1.0, \"#f0f921\"]], \"type\": \"histogram2dcontour\"}], \"mesh3d\": [{\"colorbar\": {\"outlinewidth\": 0, \"ticks\": \"\"}, \"type\": \"mesh3d\"}], \"parcoords\": [{\"line\": {\"colorbar\": {\"outlinewidth\": 0, \"ticks\": \"\"}}, \"type\": \"parcoords\"}], \"pie\": [{\"automargin\": true, \"type\": \"pie\"}], \"scatter\": [{\"marker\": {\"colorbar\": {\"outlinewidth\": 0, \"ticks\": \"\"}}, \"type\": \"scatter\"}], \"scatter3d\": [{\"line\": {\"colorbar\": {\"outlinewidth\": 0, \"ticks\": \"\"}}, \"marker\": {\"colorbar\": {\"outlinewidth\": 0, \"ticks\": \"\"}}, \"type\": \"scatter3d\"}], \"scattercarpet\": [{\"marker\": {\"colorbar\": {\"outlinewidth\": 0, \"ticks\": \"\"}}, \"type\": \"scattercarpet\"}], \"scattergeo\": [{\"marker\": {\"colorbar\": {\"outlinewidth\": 0, \"ticks\": \"\"}}, \"type\": \"scattergeo\"}], \"scattergl\": [{\"marker\": {\"colorbar\": {\"outlinewidth\": 0, \"ticks\": \"\"}}, \"type\": \"scattergl\"}], \"scattermapbox\": [{\"marker\": {\"colorbar\": {\"outlinewidth\": 0, \"ticks\": \"\"}}, \"type\": \"scattermapbox\"}], \"scatterpolar\": [{\"marker\": {\"colorbar\": {\"outlinewidth\": 0, \"ticks\": \"\"}}, \"type\": \"scatterpolar\"}], \"scatterpolargl\": [{\"marker\": {\"colorbar\": {\"outlinewidth\": 0, \"ticks\": \"\"}}, \"type\": \"scatterpolargl\"}], \"scatterternary\": [{\"marker\": {\"colorbar\": {\"outlinewidth\": 0, \"ticks\": \"\"}}, \"type\": \"scatterternary\"}], \"surface\": [{\"colorbar\": {\"outlinewidth\": 0, \"ticks\": \"\"}, \"colorscale\": [[0.0, \"#0d0887\"], [0.1111111111111111, \"#46039f\"], [0.2222222222222222, \"#7201a8\"], [0.3333333333333333, \"#9c179e\"], [0.4444444444444444, \"#bd3786\"], [0.5555555555555556, \"#d8576b\"], [0.6666666666666666, \"#ed7953\"], [0.7777777777777778, \"#fb9f3a\"], [0.8888888888888888, \"#fdca26\"], [1.0, \"#f0f921\"]], \"type\": \"surface\"}], \"table\": [{\"cells\": {\"fill\": {\"color\": \"#EBF0F8\"}, \"line\": {\"color\": \"white\"}}, \"header\": {\"fill\": {\"color\": \"#C8D4E3\"}, \"line\": {\"color\": \"white\"}}, \"type\": \"table\"}]}, \"layout\": {\"annotationdefaults\": {\"arrowcolor\": \"#2a3f5f\", \"arrowhead\": 0, \"arrowwidth\": 1}, \"coloraxis\": {\"colorbar\": {\"outlinewidth\": 0, \"ticks\": \"\"}}, \"colorscale\": {\"diverging\": [[0, \"#8e0152\"], [0.1, \"#c51b7d\"], [0.2, \"#de77ae\"], [0.3, \"#f1b6da\"], [0.4, \"#fde0ef\"], [0.5, \"#f7f7f7\"], [0.6, \"#e6f5d0\"], [0.7, \"#b8e186\"], [0.8, \"#7fbc41\"], [0.9, \"#4d9221\"], [1, \"#276419\"]], \"sequential\": [[0.0, \"#0d0887\"], [0.1111111111111111, \"#46039f\"], [0.2222222222222222, \"#7201a8\"], [0.3333333333333333, \"#9c179e\"], [0.4444444444444444, \"#bd3786\"], [0.5555555555555556, \"#d8576b\"], [0.6666666666666666, \"#ed7953\"], [0.7777777777777778, \"#fb9f3a\"], [0.8888888888888888, \"#fdca26\"], [1.0, \"#f0f921\"]], \"sequentialminus\": [[0.0, \"#0d0887\"], [0.1111111111111111, \"#46039f\"], [0.2222222222222222, \"#7201a8\"], [0.3333333333333333, \"#9c179e\"], [0.4444444444444444, \"#bd3786\"], [0.5555555555555556, \"#d8576b\"], [0.6666666666666666, \"#ed7953\"], [0.7777777777777778, \"#fb9f3a\"], [0.8888888888888888, \"#fdca26\"], [1.0, \"#f0f921\"]]}, \"colorway\": [\"#636efa\", \"#EF553B\", \"#00cc96\", \"#ab63fa\", \"#FFA15A\", \"#19d3f3\", \"#FF6692\", \"#B6E880\", \"#FF97FF\", \"#FECB52\"], \"font\": {\"color\": \"#2a3f5f\"}, \"geo\": {\"bgcolor\": \"white\", \"lakecolor\": \"white\", \"landcolor\": \"#E5ECF6\", \"showlakes\": true, \"showland\": true, \"subunitcolor\": \"white\"}, \"hoverlabel\": {\"align\": \"left\"}, \"hovermode\": \"closest\", \"mapbox\": {\"style\": \"light\"}, \"paper_bgcolor\": \"white\", \"plot_bgcolor\": \"#E5ECF6\", \"polar\": {\"angularaxis\": {\"gridcolor\": \"white\", \"linecolor\": \"white\", \"ticks\": \"\"}, \"bgcolor\": \"#E5ECF6\", \"radialaxis\": {\"gridcolor\": \"white\", \"linecolor\": \"white\", \"ticks\": \"\"}}, \"scene\": {\"xaxis\": {\"backgroundcolor\": \"#E5ECF6\", \"gridcolor\": \"white\", \"gridwidth\": 2, \"linecolor\": \"white\", \"showbackground\": true, \"ticks\": \"\", \"zerolinecolor\": \"white\"}, \"yaxis\": {\"backgroundcolor\": \"#E5ECF6\", \"gridcolor\": \"white\", \"gridwidth\": 2, \"linecolor\": \"white\", \"showbackground\": true, \"ticks\": \"\", \"zerolinecolor\": \"white\"}, \"zaxis\": {\"backgroundcolor\": \"#E5ECF6\", \"gridcolor\": \"white\", \"gridwidth\": 2, \"linecolor\": \"white\", \"showbackground\": true, \"ticks\": \"\", \"zerolinecolor\": \"white\"}}, \"shapedefaults\": {\"line\": {\"color\": \"#2a3f5f\"}}, \"ternary\": {\"aaxis\": {\"gridcolor\": \"white\", \"linecolor\": \"white\", \"ticks\": \"\"}, \"baxis\": {\"gridcolor\": \"white\", \"linecolor\": \"white\", \"ticks\": \"\"}, \"bgcolor\": \"#E5ECF6\", \"caxis\": {\"gridcolor\": \"white\", \"linecolor\": \"white\", \"ticks\": \"\"}}, \"title\": {\"x\": 0.05}, \"xaxis\": {\"automargin\": true, \"gridcolor\": \"white\", \"linecolor\": \"white\", \"ticks\": \"\", \"title\": {\"standoff\": 15}, \"zerolinecolor\": \"white\", \"zerolinewidth\": 2}, \"yaxis\": {\"automargin\": true, \"gridcolor\": \"white\", \"linecolor\": \"white\", \"ticks\": \"\", \"title\": {\"standoff\": 15}, \"zerolinecolor\": \"white\", \"zerolinewidth\": 2}}}, \"xaxis\": {\"anchor\": \"y\", \"domain\": [0.0, 1.0], \"title\": {\"text\": \"user_screen_name\"}}, \"yaxis\": {\"anchor\": \"x\", \"domain\": [0.0, 1.0], \"title\": {\"text\": \"post_count\"}}},\n",
              "                        {\"responsive\": true}\n",
              "                    ).then(function(){\n",
              "                            \n",
              "var gd = document.getElementById('848f44f1-5e90-44d5-8839-3e89b5b3d035');\n",
              "var x = new MutationObserver(function (mutations, observer) {{\n",
              "        var display = window.getComputedStyle(gd).display;\n",
              "        if (!display || display === 'none') {{\n",
              "            console.log([gd, 'removed!']);\n",
              "            Plotly.purge(gd);\n",
              "            observer.disconnect();\n",
              "        }}\n",
              "}});\n",
              "\n",
              "// Listen for the removal of the full notebook cells\n",
              "var notebookContainer = gd.closest('#notebook-container');\n",
              "if (notebookContainer) {{\n",
              "    x.observe(notebookContainer, {childList: true});\n",
              "}}\n",
              "\n",
              "// Listen for the clearing of the current output cell\n",
              "var outputEl = gd.closest('.output');\n",
              "if (outputEl) {{\n",
              "    x.observe(outputEl, {childList: true});\n",
              "}}\n",
              "\n",
              "                        })\n",
              "                };\n",
              "                \n",
              "            </script>\n",
              "        </div>\n",
              "</body>\n",
              "</html>"
            ]
          },
          "metadata": {
            "tags": []
          }
        }
      ]
    },
    {
      "cell_type": "markdown",
      "metadata": {
        "id": "6uvBanam1jlt"
      },
      "source": [
        "### Fake News Vs Real News"
      ]
    },
    {
      "cell_type": "code",
      "metadata": {
        "id": "mo7O35ox2KMA"
      },
      "source": [
        "def tTestFull(df1, df2, metrics, threshold): \n",
        "    '''\n",
        "        Performs T-tests for all of the metrics passed as an argument\n",
        "          on between data in df1 and df2.\n",
        "    '''    \n",
        "    \n",
        "    print(\"ALPHA\\t\\t\" + str(threshold))\n",
        "    print()\n",
        "    for metric in metrics:\n",
        "      tTest = sm.stats.ttest_ind(df1[metric], df2[metric])\n",
        "      if len(metric) < 8:\n",
        "        result = metric.upper() + \"\\t\\t\" + str(tTest[1])\n",
        "      else:\n",
        "        result = metric.upper() + \"\\t\" + str(tTest[1])\n",
        "\n",
        "      if (tTest[1] < threshold):\n",
        "        print(result + \"\\tREJECT\")\n",
        "      else:\n",
        "        print(result + \"\\tFAIL TO REJECT\")"
      ],
      "execution_count": null,
      "outputs": []
    },
    {
      "cell_type": "markdown",
      "metadata": {
        "id": "1r_McLPU3uhJ"
      },
      "source": [
        "I decided to see whether fake news had a significantly different text length than real news"
      ]
    },
    {
      "cell_type": "code",
      "metadata": {
        "colab": {
          "base_uri": "https://localhost:8080/"
        },
        "id": "jbQ2QZgpoBaV",
        "outputId": "aa3e728a-a36f-48cd-cd25-ac8179c9da49"
      },
      "source": [
        "fake_news_final['text_length'] = fake_news_final['text'].apply(lambda x : len(x))\n",
        "real_news_final['text_length'] = real_news_final['text'].apply(lambda x : len(x))"
      ],
      "execution_count": null,
      "outputs": [
        {
          "output_type": "stream",
          "text": [
            "/usr/local/lib/python3.7/dist-packages/ipykernel_launcher.py:1: SettingWithCopyWarning:\n",
            "\n",
            "\n",
            "A value is trying to be set on a copy of a slice from a DataFrame.\n",
            "Try using .loc[row_indexer,col_indexer] = value instead\n",
            "\n",
            "See the caveats in the documentation: https://pandas.pydata.org/pandas-docs/stable/user_guide/indexing.html#returning-a-view-versus-a-copy\n",
            "\n",
            "/usr/local/lib/python3.7/dist-packages/ipykernel_launcher.py:2: SettingWithCopyWarning:\n",
            "\n",
            "\n",
            "A value is trying to be set on a copy of a slice from a DataFrame.\n",
            "Try using .loc[row_indexer,col_indexer] = value instead\n",
            "\n",
            "See the caveats in the documentation: https://pandas.pydata.org/pandas-docs/stable/user_guide/indexing.html#returning-a-view-versus-a-copy\n",
            "\n"
          ],
          "name": "stderr"
        }
      ]
    },
    {
      "cell_type": "code",
      "metadata": {
        "colab": {
          "base_uri": "https://localhost:8080/"
        },
        "id": "xO5IqUIt1NSj",
        "outputId": "fdd23f33-e434-4dde-de14-96fee6d0af4d"
      },
      "source": [
        "metrics = ['polarity', 'text_length', 'user_friends_count', 'month']\n",
        "tTestFull(fake_news_final, real_news_final, metrics, 0.05)"
      ],
      "execution_count": null,
      "outputs": [
        {
          "output_type": "stream",
          "text": [
            "ALPHA\t\t0.05\n",
            "\n",
            "POLARITY\t1.5764875745944168e-12\tREJECT\n",
            "TEXT_LENGTH\t7.90791416961035e-06\tREJECT\n",
            "USER_FRIENDS_COUNT\t1.6394362486809855e-05\tREJECT\n",
            "MONTH\t\t1.7588483679727183e-46\tREJECT\n"
          ],
          "name": "stdout"
        }
      ]
    },
    {
      "cell_type": "code",
      "metadata": {
        "colab": {
          "base_uri": "https://localhost:8080/",
          "height": 317
        },
        "id": "1H3NA0at4wh3",
        "outputId": "602fd66e-c31d-46b0-88b1-5d2eafb2875d"
      },
      "source": [
        "fake_news_final.describe()"
      ],
      "execution_count": null,
      "outputs": [
        {
          "output_type": "execute_result",
          "data": {
            "text/html": [
              "<div>\n",
              "<style scoped>\n",
              "    .dataframe tbody tr th:only-of-type {\n",
              "        vertical-align: middle;\n",
              "    }\n",
              "\n",
              "    .dataframe tbody tr th {\n",
              "        vertical-align: top;\n",
              "    }\n",
              "\n",
              "    .dataframe thead th {\n",
              "        text-align: right;\n",
              "    }\n",
              "</style>\n",
              "<table border=\"1\" class=\"dataframe\">\n",
              "  <thead>\n",
              "    <tr style=\"text-align: right;\">\n",
              "      <th></th>\n",
              "      <th>category</th>\n",
              "      <th>retweet_count</th>\n",
              "      <th>user_friends_count</th>\n",
              "      <th>user_followers_count</th>\n",
              "      <th>weekday</th>\n",
              "      <th>month</th>\n",
              "      <th>polarity</th>\n",
              "      <th>subjectivity</th>\n",
              "      <th>text_length</th>\n",
              "    </tr>\n",
              "  </thead>\n",
              "  <tbody>\n",
              "    <tr>\n",
              "      <th>count</th>\n",
              "      <td>1975.000000</td>\n",
              "      <td>1975.000000</td>\n",
              "      <td>1.975000e+03</td>\n",
              "      <td>1.975000e+03</td>\n",
              "      <td>1975.000000</td>\n",
              "      <td>1975.000000</td>\n",
              "      <td>1975.000000</td>\n",
              "      <td>1975.000000</td>\n",
              "      <td>1975.000000</td>\n",
              "    </tr>\n",
              "    <tr>\n",
              "      <th>mean</th>\n",
              "      <td>2.629873</td>\n",
              "      <td>3258.008101</td>\n",
              "      <td>1.097082e+04</td>\n",
              "      <td>1.947744e+06</td>\n",
              "      <td>2.410127</td>\n",
              "      <td>8.864810</td>\n",
              "      <td>0.033487</td>\n",
              "      <td>0.280987</td>\n",
              "      <td>115.566582</td>\n",
              "    </tr>\n",
              "    <tr>\n",
              "      <th>std</th>\n",
              "      <td>1.843200</td>\n",
              "      <td>4475.113520</td>\n",
              "      <td>5.381778e+04</td>\n",
              "      <td>5.486028e+06</td>\n",
              "      <td>1.704900</td>\n",
              "      <td>3.555103</td>\n",
              "      <td>0.272247</td>\n",
              "      <td>0.327018</td>\n",
              "      <td>29.255859</td>\n",
              "    </tr>\n",
              "    <tr>\n",
              "      <th>min</th>\n",
              "      <td>-1.000000</td>\n",
              "      <td>1003.000000</td>\n",
              "      <td>0.000000e+00</td>\n",
              "      <td>1.000000e+01</td>\n",
              "      <td>0.000000</td>\n",
              "      <td>1.000000</td>\n",
              "      <td>-1.000000</td>\n",
              "      <td>0.000000</td>\n",
              "      <td>26.000000</td>\n",
              "    </tr>\n",
              "    <tr>\n",
              "      <th>25%</th>\n",
              "      <td>1.000000</td>\n",
              "      <td>1334.000000</td>\n",
              "      <td>2.540000e+02</td>\n",
              "      <td>3.226900e+04</td>\n",
              "      <td>1.000000</td>\n",
              "      <td>9.000000</td>\n",
              "      <td>0.000000</td>\n",
              "      <td>0.000000</td>\n",
              "      <td>97.000000</td>\n",
              "    </tr>\n",
              "    <tr>\n",
              "      <th>50%</th>\n",
              "      <td>3.000000</td>\n",
              "      <td>1962.000000</td>\n",
              "      <td>8.160000e+02</td>\n",
              "      <td>1.831670e+05</td>\n",
              "      <td>2.000000</td>\n",
              "      <td>11.000000</td>\n",
              "      <td>0.000000</td>\n",
              "      <td>0.100000</td>\n",
              "      <td>129.000000</td>\n",
              "    </tr>\n",
              "    <tr>\n",
              "      <th>75%</th>\n",
              "      <td>4.000000</td>\n",
              "      <td>3292.500000</td>\n",
              "      <td>4.052500e+03</td>\n",
              "      <td>7.141825e+05</td>\n",
              "      <td>3.000000</td>\n",
              "      <td>11.000000</td>\n",
              "      <td>0.100000</td>\n",
              "      <td>0.525126</td>\n",
              "      <td>139.000000</td>\n",
              "    </tr>\n",
              "    <tr>\n",
              "      <th>max</th>\n",
              "      <td>5.000000</td>\n",
              "      <td>70151.000000</td>\n",
              "      <td>1.679113e+06</td>\n",
              "      <td>9.419268e+07</td>\n",
              "      <td>6.000000</td>\n",
              "      <td>12.000000</td>\n",
              "      <td>1.000000</td>\n",
              "      <td>1.000000</td>\n",
              "      <td>150.000000</td>\n",
              "    </tr>\n",
              "  </tbody>\n",
              "</table>\n",
              "</div>"
            ],
            "text/plain": [
              "          category  retweet_count  ...  subjectivity  text_length\n",
              "count  1975.000000    1975.000000  ...   1975.000000  1975.000000\n",
              "mean      2.629873    3258.008101  ...      0.280987   115.566582\n",
              "std       1.843200    4475.113520  ...      0.327018    29.255859\n",
              "min      -1.000000    1003.000000  ...      0.000000    26.000000\n",
              "25%       1.000000    1334.000000  ...      0.000000    97.000000\n",
              "50%       3.000000    1962.000000  ...      0.100000   129.000000\n",
              "75%       4.000000    3292.500000  ...      0.525126   139.000000\n",
              "max       5.000000   70151.000000  ...      1.000000   150.000000\n",
              "\n",
              "[8 rows x 9 columns]"
            ]
          },
          "metadata": {
            "tags": []
          },
          "execution_count": 36
        }
      ]
    },
    {
      "cell_type": "code",
      "metadata": {
        "colab": {
          "base_uri": "https://localhost:8080/",
          "height": 317
        },
        "id": "M6gVUMjK4AlB",
        "outputId": "bebf4768-950a-42af-8525-e87ec4641034"
      },
      "source": [
        "real_news_final.describe()"
      ],
      "execution_count": null,
      "outputs": [
        {
          "output_type": "execute_result",
          "data": {
            "text/html": [
              "<div>\n",
              "<style scoped>\n",
              "    .dataframe tbody tr th:only-of-type {\n",
              "        vertical-align: middle;\n",
              "    }\n",
              "\n",
              "    .dataframe tbody tr th {\n",
              "        vertical-align: top;\n",
              "    }\n",
              "\n",
              "    .dataframe thead th {\n",
              "        text-align: right;\n",
              "    }\n",
              "</style>\n",
              "<table border=\"1\" class=\"dataframe\">\n",
              "  <thead>\n",
              "    <tr style=\"text-align: right;\">\n",
              "      <th></th>\n",
              "      <th>category</th>\n",
              "      <th>retweet_count</th>\n",
              "      <th>user_friends_count</th>\n",
              "      <th>user_followers_count</th>\n",
              "      <th>weekday</th>\n",
              "      <th>month</th>\n",
              "      <th>polarity</th>\n",
              "      <th>subjectivity</th>\n",
              "      <th>text_length</th>\n",
              "    </tr>\n",
              "  </thead>\n",
              "  <tbody>\n",
              "    <tr>\n",
              "      <th>count</th>\n",
              "      <td>6445.000000</td>\n",
              "      <td>6445.000000</td>\n",
              "      <td>6445.000000</td>\n",
              "      <td>6.445000e+03</td>\n",
              "      <td>6445.000000</td>\n",
              "      <td>6445.000000</td>\n",
              "      <td>6445.000000</td>\n",
              "      <td>6445.000000</td>\n",
              "      <td>6445.000000</td>\n",
              "    </tr>\n",
              "    <tr>\n",
              "      <th>mean</th>\n",
              "      <td>-0.245151</td>\n",
              "      <td>3326.153297</td>\n",
              "      <td>6736.276338</td>\n",
              "      <td>3.223529e+06</td>\n",
              "      <td>2.742126</td>\n",
              "      <td>7.331575</td>\n",
              "      <td>0.088493</td>\n",
              "      <td>0.315131</td>\n",
              "      <td>118.777347</td>\n",
              "    </tr>\n",
              "    <tr>\n",
              "      <th>std</th>\n",
              "      <td>0.430210</td>\n",
              "      <td>5123.831583</td>\n",
              "      <td>31900.805192</td>\n",
              "      <td>8.855573e+06</td>\n",
              "      <td>1.828944</td>\n",
              "      <td>4.301964</td>\n",
              "      <td>0.310732</td>\n",
              "      <td>0.339713</td>\n",
              "      <td>27.504735</td>\n",
              "    </tr>\n",
              "    <tr>\n",
              "      <th>min</th>\n",
              "      <td>-1.000000</td>\n",
              "      <td>1001.000000</td>\n",
              "      <td>0.000000</td>\n",
              "      <td>1.000000e+00</td>\n",
              "      <td>0.000000</td>\n",
              "      <td>1.000000</td>\n",
              "      <td>-1.000000</td>\n",
              "      <td>0.000000</td>\n",
              "      <td>19.000000</td>\n",
              "    </tr>\n",
              "    <tr>\n",
              "      <th>25%</th>\n",
              "      <td>0.000000</td>\n",
              "      <td>1321.000000</td>\n",
              "      <td>199.000000</td>\n",
              "      <td>3.961300e+04</td>\n",
              "      <td>1.000000</td>\n",
              "      <td>2.000000</td>\n",
              "      <td>0.000000</td>\n",
              "      <td>0.000000</td>\n",
              "      <td>106.000000</td>\n",
              "    </tr>\n",
              "    <tr>\n",
              "      <th>50%</th>\n",
              "      <td>0.000000</td>\n",
              "      <td>1924.000000</td>\n",
              "      <td>706.000000</td>\n",
              "      <td>2.755570e+05</td>\n",
              "      <td>2.000000</td>\n",
              "      <td>10.000000</td>\n",
              "      <td>0.000000</td>\n",
              "      <td>0.200000</td>\n",
              "      <td>131.000000</td>\n",
              "    </tr>\n",
              "    <tr>\n",
              "      <th>75%</th>\n",
              "      <td>0.000000</td>\n",
              "      <td>3437.000000</td>\n",
              "      <td>2222.000000</td>\n",
              "      <td>1.259325e+06</td>\n",
              "      <td>4.000000</td>\n",
              "      <td>11.000000</td>\n",
              "      <td>0.200000</td>\n",
              "      <td>0.600000</td>\n",
              "      <td>139.000000</td>\n",
              "    </tr>\n",
              "    <tr>\n",
              "      <th>max</th>\n",
              "      <td>0.000000</td>\n",
              "      <td>99999.000000</td>\n",
              "      <td>946983.000000</td>\n",
              "      <td>9.568367e+07</td>\n",
              "      <td>6.000000</td>\n",
              "      <td>12.000000</td>\n",
              "      <td>1.000000</td>\n",
              "      <td>1.000000</td>\n",
              "      <td>155.000000</td>\n",
              "    </tr>\n",
              "  </tbody>\n",
              "</table>\n",
              "</div>"
            ],
            "text/plain": [
              "          category  retweet_count  ...  subjectivity  text_length\n",
              "count  6445.000000    6445.000000  ...   6445.000000  6445.000000\n",
              "mean     -0.245151    3326.153297  ...      0.315131   118.777347\n",
              "std       0.430210    5123.831583  ...      0.339713    27.504735\n",
              "min      -1.000000    1001.000000  ...      0.000000    19.000000\n",
              "25%       0.000000    1321.000000  ...      0.000000   106.000000\n",
              "50%       0.000000    1924.000000  ...      0.200000   131.000000\n",
              "75%       0.000000    3437.000000  ...      0.600000   139.000000\n",
              "max       0.000000   99999.000000  ...      1.000000   155.000000\n",
              "\n",
              "[8 rows x 9 columns]"
            ]
          },
          "metadata": {
            "tags": []
          },
          "execution_count": 37
        }
      ]
    },
    {
      "cell_type": "code",
      "metadata": {
        "id": "Tqusk0dQ3QAZ"
      },
      "source": [
        "fake_metric = fake_news_final.describe()[['polarity', 'text_length', 'user_friends_count', 'month']].loc[['mean']]\n",
        "fake_df = pd.DataFrame({'month': fake_metric['month']['mean'], 'polarity': fake_metric['polarity']['mean'], 'text_length': fake_metric['text_length']['mean'], 'user_friend_count': fake_metric['user_friends_count']['mean']}, index=['fake'])"
      ],
      "execution_count": null,
      "outputs": []
    },
    {
      "cell_type": "code",
      "metadata": {
        "id": "999FNAWY4zjZ"
      },
      "source": [
        "real_metric = real_news_final.describe()[['polarity', 'text_length', 'user_friends_count', 'month']].loc[['mean']]\n",
        "real_df = pd.DataFrame({'month': real_metric['month']['mean'], 'polarity': real_metric['polarity']['mean'], 'text_length': real_metric['text_length']['mean'], 'user_friend_count': real_metric['user_friends_count']['mean']}, index=['real'])"
      ],
      "execution_count": null,
      "outputs": []
    },
    {
      "cell_type": "code",
      "metadata": {
        "colab": {
          "base_uri": "https://localhost:8080/",
          "height": 111
        },
        "id": "XjGLpwlE42AT",
        "outputId": "6023d3e2-13d6-456c-ee8c-547b12308ff2"
      },
      "source": [
        "fake_df.append(real_df)"
      ],
      "execution_count": null,
      "outputs": [
        {
          "output_type": "execute_result",
          "data": {
            "text/html": [
              "<div>\n",
              "<style scoped>\n",
              "    .dataframe tbody tr th:only-of-type {\n",
              "        vertical-align: middle;\n",
              "    }\n",
              "\n",
              "    .dataframe tbody tr th {\n",
              "        vertical-align: top;\n",
              "    }\n",
              "\n",
              "    .dataframe thead th {\n",
              "        text-align: right;\n",
              "    }\n",
              "</style>\n",
              "<table border=\"1\" class=\"dataframe\">\n",
              "  <thead>\n",
              "    <tr style=\"text-align: right;\">\n",
              "      <th></th>\n",
              "      <th>month</th>\n",
              "      <th>polarity</th>\n",
              "      <th>text_length</th>\n",
              "      <th>user_friend_count</th>\n",
              "    </tr>\n",
              "  </thead>\n",
              "  <tbody>\n",
              "    <tr>\n",
              "      <th>fake</th>\n",
              "      <td>8.864810</td>\n",
              "      <td>0.033487</td>\n",
              "      <td>115.566582</td>\n",
              "      <td>10970.822785</td>\n",
              "    </tr>\n",
              "    <tr>\n",
              "      <th>real</th>\n",
              "      <td>7.331575</td>\n",
              "      <td>0.088493</td>\n",
              "      <td>118.777347</td>\n",
              "      <td>6736.276338</td>\n",
              "    </tr>\n",
              "  </tbody>\n",
              "</table>\n",
              "</div>"
            ],
            "text/plain": [
              "         month  polarity  text_length  user_friend_count\n",
              "fake  8.864810  0.033487   115.566582       10970.822785\n",
              "real  7.331575  0.088493   118.777347        6736.276338"
            ]
          },
          "metadata": {
            "tags": []
          },
          "execution_count": 40
        }
      ]
    },
    {
      "cell_type": "markdown",
      "metadata": {
        "id": "tNVMo-Po9IwN"
      },
      "source": [
        "As seen above, it appears that on average, fake news is signficantly shorter than real news. Furthermore, given that a polarity score of 1 means the text is positive, -1 meaning negative sentiment and 0 being neutral, on average both texts are quite neutral. However, real news is significantly more positive than fake news (not surprising given what we saw above). Finally, it appears that the friend count of users that post fake news is on average significantly more than those that post real news. This can possibly explanation one aspect of the pervasive impacts fake news has on social networks. "
      ]
    },
    {
      "cell_type": "markdown",
      "metadata": {
        "id": "UCfHv_6Nh6m2"
      },
      "source": [
        "### Polarity vs Retweet Count"
      ]
    },
    {
      "cell_type": "code",
      "metadata": {
        "colab": {
          "base_uri": "https://localhost:8080/",
          "height": 298
        },
        "id": "r_ZLRF9Rh6Yp",
        "outputId": "c05c4f30-0d0b-4530-eed7-58fbcad5ae20"
      },
      "source": [
        "sns.lineplot(x=fake_news_top['polarity'], y=fake_news_top['retweet_count'])"
      ],
      "execution_count": null,
      "outputs": [
        {
          "output_type": "execute_result",
          "data": {
            "text/plain": [
              "<matplotlib.axes._subplots.AxesSubplot at 0x7f90b8c1f410>"
            ]
          },
          "metadata": {
            "tags": []
          },
          "execution_count": 41
        },
        {
          "output_type": "display_data",
          "data": {
            "image/png": "[encoded data removed]",
            "text/plain": [
              "<Figure size 432x288 with 1 Axes>"
            ]
          },
          "metadata": {
            "tags": [],
            "needs_background": "light"
          }
        }
      ]
    },
    {
      "cell_type": "code",
      "metadata": {
        "colab": {
          "base_uri": "https://localhost:8080/",
          "height": 296
        },
        "id": "Bl_NSEejh_8K",
        "outputId": "003be9b1-d910-4bad-c75f-90bd461b5d1d"
      },
      "source": [
        "sns.lineplot(x=real_news_top['polarity'], y=real_news_top['retweet_count'])"
      ],
      "execution_count": null,
      "outputs": [
        {
          "output_type": "execute_result",
          "data": {
            "text/plain": [
              "<matplotlib.axes._subplots.AxesSubplot at 0x7f90b8b99450>"
            ]
          },
          "metadata": {
            "tags": []
          },
          "execution_count": 42
        },
        {
          "output_type": "display_data",
          "data": {
            "image/png": "[encoded data removed]",
            "text/plain": [
              "<Figure size 432x288 with 1 Axes>"
            ]
          },
          "metadata": {
            "tags": [],
            "needs_background": "light"
          }
        }
      ]
    },
    {
      "cell_type": "markdown",
      "metadata": {
        "id": "I_4sP5n5Bb3E"
      },
      "source": [
        "## Pre Processing"
      ]
    },
    {
      "cell_type": "markdown",
      "metadata": {
        "id": "OOX9f9b8BrAX"
      },
      "source": [
        "Before we can dive into training classifiers, we need to transform our features (the word counts) into numerical values to feed into the models. Thus, we will use Tfidfvectorizer to achieve this."
      ]
    },
    {
      "cell_type": "markdown",
      "metadata": {
        "id": "sbsZWkM2B1iT"
      },
      "source": [
        "## TF-IDF"
      ]
    },
    {
      "cell_type": "code",
      "metadata": {
        "colab": {
          "base_uri": "https://localhost:8080/"
        },
        "id": "Abm8KxDgCi-J",
        "outputId": "a86290dd-3a69-4b82-d179-2e3bc0897494"
      },
      "source": [
        "#combine the two dataframes back into one\n",
        "fake_news_final['type'] = 1"
      ],
      "execution_count": null,
      "outputs": [
        {
          "output_type": "stream",
          "text": [
            "/usr/local/lib/python3.7/dist-packages/ipykernel_launcher.py:2: SettingWithCopyWarning:\n",
            "\n",
            "\n",
            "A value is trying to be set on a copy of a slice from a DataFrame.\n",
            "Try using .loc[row_indexer,col_indexer] = value instead\n",
            "\n",
            "See the caveats in the documentation: https://pandas.pydata.org/pandas-docs/stable/user_guide/indexing.html#returning-a-view-versus-a-copy\n",
            "\n"
          ],
          "name": "stderr"
        }
      ]
    },
    {
      "cell_type": "code",
      "metadata": {
        "colab": {
          "base_uri": "https://localhost:8080/"
        },
        "id": "dqBEdzLvCl6k",
        "outputId": "0d125480-80b1-4a65-e761-2467f5b41c77"
      },
      "source": [
        "real_news_final['type'] = 0"
      ],
      "execution_count": null,
      "outputs": [
        {
          "output_type": "stream",
          "text": [
            "/usr/local/lib/python3.7/dist-packages/ipykernel_launcher.py:1: SettingWithCopyWarning:\n",
            "\n",
            "\n",
            "A value is trying to be set on a copy of a slice from a DataFrame.\n",
            "Try using .loc[row_indexer,col_indexer] = value instead\n",
            "\n",
            "See the caveats in the documentation: https://pandas.pydata.org/pandas-docs/stable/user_guide/indexing.html#returning-a-view-versus-a-copy\n",
            "\n"
          ],
          "name": "stderr"
        }
      ]
    },
    {
      "cell_type": "markdown",
      "metadata": {
        "id": "c-L_6jAqDoiu"
      },
      "source": [
        "We append the fake and real news datasets together and shuffle the rows in order to mix the data"
      ]
    },
    {
      "cell_type": "code",
      "metadata": {
        "id": "bUS1N0NUC2yS"
      },
      "source": [
        "total_df = real_news_final.append(fake_news_final)\n",
        "total_df\n",
        "total_df_final = total_df.reset_index().drop(columns=['index'])"
      ],
      "execution_count": null,
      "outputs": []
    },
    {
      "cell_type": "code",
      "metadata": {
        "id": "ccAurHzCMc_T"
      },
      "source": [
        "X = []\n",
        "for a in total_df_final['clean_text']:\n",
        "  X.append(a)\n",
        "\n",
        "y = []\n",
        "for b in total_df_final['type']:\n",
        "  y.append(b)"
      ],
      "execution_count": null,
      "outputs": []
    },
    {
      "cell_type": "code",
      "metadata": {
        "id": "_j8YoLwgNErm"
      },
      "source": [
        "from sklearn.model_selection import train_test_split\n",
        "x_train, x_test, y_train,y_test= train_test_split(X, y, test_size=0.2, random_state=1)"
      ],
      "execution_count": null,
      "outputs": []
    },
    {
      "cell_type": "code",
      "metadata": {
        "id": "M2jhSxZbBqu2"
      },
      "source": [
        "from sklearn.feature_extraction.text import TfidfVectorizer\n",
        "\n",
        "#Keep words that appear in greater than 1% of documents. Override preprocessor and implement on list of words\n",
        "#in each article in order to keep the words we have cleaned for earlier\n",
        "tfidf = TfidfVectorizer(min_df = 0.01)\n",
        "\n",
        "#Implement on train dataset\n",
        "response_train = tfidf.fit_transform(x_train) #This is the Sparse Document-Term Matrix\n",
        "feature_names_train = tfidf.get_feature_names()\n",
        "dense_train = response_train.todense() #This is the Dense Document-Term Matrix\n",
        "denselist_train = dense_train.tolist()"
      ],
      "execution_count": null,
      "outputs": []
    },
    {
      "cell_type": "code",
      "metadata": {
        "id": "nZwDKVadOlU4"
      },
      "source": [
        "df_train = pd.DataFrame(denselist_train, columns=feature_names_train)\n",
        "df_train['label'] = y_train"
      ],
      "execution_count": null,
      "outputs": []
    },
    {
      "cell_type": "code",
      "metadata": {
        "id": "EsVy-uS0O3GS"
      },
      "source": [
        "X_new = df_train.drop(columns=['label'])\n",
        "y_new= df_train['label']"
      ],
      "execution_count": null,
      "outputs": []
    },
    {
      "cell_type": "code",
      "metadata": {
        "colab": {
          "base_uri": "https://localhost:8080/",
          "height": 296
        },
        "id": "WA50On1IKVVj",
        "outputId": "e6191510-0c8e-4728-890b-1ea6202046fc"
      },
      "source": [
        "sns.countplot(x = 'label', data=df_train)"
      ],
      "execution_count": null,
      "outputs": [
        {
          "output_type": "execute_result",
          "data": {
            "text/plain": [
              "<matplotlib.axes._subplots.AxesSubplot at 0x7f90b745e210>"
            ]
          },
          "metadata": {
            "tags": []
          },
          "execution_count": 51
        },
        {
          "output_type": "display_data",
          "data": {
            "image/png": "[encoded data removed]",
            "text/plain": [
              "<Figure size 432x288 with 1 Axes>"
            ]
          },
          "metadata": {
            "tags": [],
            "needs_background": "light"
          }
        }
      ]
    },
    {
      "cell_type": "markdown",
      "metadata": {
        "id": "TvfqObZQEPeT"
      },
      "source": [
        "Since the dataset is imbalanced, we need to oversample the fake news tweets"
      ]
    },
    {
      "cell_type": "code",
      "metadata": {
        "colab": {
          "base_uri": "https://localhost:8080/"
        },
        "id": "P_Tf63RaP5h_",
        "outputId": "7e2f51e3-fab6-450a-f302-0a02d34cfe9d"
      },
      "source": [
        "#new training data\n",
        "from imblearn.over_sampling import RandomOverSampler\n",
        "ros = RandomOverSampler(random_state=10)\n",
        "x_ros, y_ros = ros.fit_resample(X_new, y_new)\n",
        "\n",
        "print('The number of 0s in the class is: ', len(np.where(y_ros == 0)[0]))\n",
        "print('The number of 1s in the class is: ', len(np.where(y_ros == 1)[0]))\n",
        "\n",
        "x_train_new = x_ros\n",
        "y_train_new = y_ros"
      ],
      "execution_count": null,
      "outputs": [
        {
          "output_type": "stream",
          "text": [
            "The number of 0s in the class is:  5152\n",
            "The number of 1s in the class is:  5152\n"
          ],
          "name": "stdout"
        },
        {
          "output_type": "stream",
          "text": [
            "/usr/local/lib/python3.7/dist-packages/sklearn/utils/deprecation.py:87: FutureWarning:\n",
            "\n",
            "Function safe_indexing is deprecated; safe_indexing is deprecated in version 0.22 and will be removed in version 0.24.\n",
            "\n"
          ],
          "name": "stderr"
        }
      ]
    },
    {
      "cell_type": "code",
      "metadata": {
        "id": "fJgfWLCaRjmO"
      },
      "source": [
        "from sklearn.feature_extraction.text import TfidfVectorizer\n",
        "\n",
        "#Keep words that appear in greater than 1% of documents. Override preprocessor and implement on list of words\n",
        "#in each article in order to keep the words we have cleaned for earlier\n",
        "tfidf = TfidfVectorizer(min_df = 0.01, vocabulary = feature_names_train)\n",
        "\n",
        "#Implement on test dataset\n",
        "response_test = tfidf.fit_transform(x_test) #This is the Sparse Document-Term Matrix\n",
        "feature_names_test = tfidf.get_feature_names()\n",
        "dense_test = response_test.todense() #This is the Dense Document-Term Matrix\n",
        "denselist_test = dense_test.tolist()"
      ],
      "execution_count": null,
      "outputs": []
    },
    {
      "cell_type": "code",
      "metadata": {
        "id": "3HdnHvgOR8bM"
      },
      "source": [
        "df_test = pd.DataFrame(denselist_test, columns=feature_names_test)\n",
        "df_test['label'] = y_test\n",
        "y_test_new = df_test['label'].values\n",
        "x_test_new = df_test.drop(columns=[\"label\"]).values"
      ],
      "execution_count": null,
      "outputs": []
    },
    {
      "cell_type": "code",
      "metadata": {
        "colab": {
          "base_uri": "https://localhost:8080/"
        },
        "id": "RmwSwkIqKTbw",
        "outputId": "f173cf2e-20e5-4bcb-b320-a7ada8b6a18d"
      },
      "source": [
        "x_test_new.shape"
      ],
      "execution_count": null,
      "outputs": [
        {
          "output_type": "execute_result",
          "data": {
            "text/plain": [
              "(1684, 101)"
            ]
          },
          "metadata": {
            "tags": []
          },
          "execution_count": 88
        }
      ]
    },
    {
      "cell_type": "code",
      "metadata": {
        "colab": {
          "base_uri": "https://localhost:8080/"
        },
        "id": "ndE3xbBVKZk6",
        "outputId": "a504301f-c076-48f2-fa7b-0a9fa1dec82c"
      },
      "source": [
        "x_train_new.shape"
      ],
      "execution_count": null,
      "outputs": [
        {
          "output_type": "execute_result",
          "data": {
            "text/plain": [
              "(10304, 101)"
            ]
          },
          "metadata": {
            "tags": []
          },
          "execution_count": 89
        }
      ]
    },
    {
      "cell_type": "markdown",
      "metadata": {
        "id": "opWGWZylE_4Z"
      },
      "source": [
        "## Data Modeling"
      ]
    },
    {
      "cell_type": "markdown",
      "metadata": {
        "id": "TZhZbp5tFCB5"
      },
      "source": [
        "### Naive Bayes"
      ]
    },
    {
      "cell_type": "code",
      "metadata": {
        "id": "SBia1IBMEPTp"
      },
      "source": [
        "#Naive Bayes model\n",
        "from sklearn.naive_bayes import MultinomialNB\n",
        "from sklearn import metrics\n",
        "from sklearn.metrics import mean_squared_error\n",
        "from sklearn.metrics import classification_report\n",
        "\n",
        "nb = MultinomialNB().fit(x_train_new, y_train_new)\n",
        "#Model Evaluation\n",
        "y_pred_class = nb.predict(x_test_new)"
      ],
      "execution_count": null,
      "outputs": []
    },
    {
      "cell_type": "code",
      "metadata": {
        "colab": {
          "base_uri": "https://localhost:8080/"
        },
        "id": "gmFRGfmMEwn4",
        "outputId": "025b97c8-0743-4b20-d8d2-dcce20ed58b7"
      },
      "source": [
        "print(\"Accuracy is:\", metrics.accuracy_score(y_test_new, y_pred_class))\n",
        "print(\"Mean Squared Error is:\", np.sqrt(mean_squared_error(y_test_new, y_pred_class)))"
      ],
      "execution_count": null,
      "outputs": [
        {
          "output_type": "stream",
          "text": [
            "Accuracy is: 0.6419239904988123\n",
            "Mean Squared Error is: 0.5983945266303726\n"
          ],
          "name": "stdout"
        }
      ]
    },
    {
      "cell_type": "code",
      "metadata": {
        "colab": {
          "base_uri": "https://localhost:8080/"
        },
        "id": "ZwMpYOq2GcpB",
        "outputId": "9d9e7a69-c5ee-4b7f-88b0-78c31e1565ed"
      },
      "source": [
        "nb_cm = metrics.confusion_matrix(y_test_new, y_pred_class)\n",
        "print(nb_cm)"
      ],
      "execution_count": null,
      "outputs": [
        {
          "output_type": "stream",
          "text": [
            "[[922 371]\n",
            " [232 159]]\n"
          ],
          "name": "stdout"
        }
      ]
    },
    {
      "cell_type": "code",
      "metadata": {
        "colab": {
          "base_uri": "https://localhost:8080/",
          "height": 265
        },
        "id": "xFJvP9ZvGv5W",
        "outputId": "28e431ee-5c52-44bb-a75f-ce8e0f093578"
      },
      "source": [
        "labels =  np.array([['922','371'],['232','159']])\n",
        "sns.heatmap(nb_cm, annot=labels, fmt = '')\n",
        "plt.show()"
      ],
      "execution_count": null,
      "outputs": [
        {
          "output_type": "display_data",
          "data": {
            "image/png": "[encoded data removed]",
            "text/plain": [
              "<Figure size 432x288 with 2 Axes>"
            ]
          },
          "metadata": {
            "tags": [],
            "needs_background": "light"
          }
        }
      ]
    },
    {
      "cell_type": "code",
      "metadata": {
        "colab": {
          "base_uri": "https://localhost:8080/"
        },
        "id": "H4sgWNvZMWZi",
        "outputId": "5a8b850d-7bc4-494f-d283-dda85d6e7432"
      },
      "source": [
        "print(metrics.classification_report(y_test, y_pred_class))"
      ],
      "execution_count": null,
      "outputs": [
        {
          "output_type": "stream",
          "text": [
            "              precision    recall  f1-score   support\n",
            "\n",
            "           0       0.80      0.71      0.75      1293\n",
            "           1       0.30      0.41      0.35       391\n",
            "\n",
            "    accuracy                           0.64      1684\n",
            "   macro avg       0.55      0.56      0.55      1684\n",
            "weighted avg       0.68      0.64      0.66      1684\n",
            "\n"
          ],
          "name": "stdout"
        }
      ]
    },
    {
      "cell_type": "code",
      "metadata": {
        "id": "ZYmafk12MhJu"
      },
      "source": [
        "#Number of times token appears in each True article\n",
        "true_token = nb.feature_count_[0, :]\n",
        "\n",
        "#Number of times token appears in each Fake article\n",
        "fake_token = nb.feature_count_[1, :]"
      ],
      "execution_count": null,
      "outputs": []
    },
    {
      "cell_type": "code",
      "metadata": {
        "colab": {
          "base_uri": "https://localhost:8080/",
          "height": 235
        },
        "id": "XhmqKeoWMqNh",
        "outputId": "608d3d72-58e1-477a-ac71-f09657387960"
      },
      "source": [
        "tokens = pd.DataFrame({'token':feature_names_train, 'true':true_token, 'fake':fake_token}).set_index('token')\n",
        "tokens.head()"
      ],
      "execution_count": null,
      "outputs": [
        {
          "output_type": "execute_result",
          "data": {
            "text/html": [
              "<div>\n",
              "<style scoped>\n",
              "    .dataframe tbody tr th:only-of-type {\n",
              "        vertical-align: middle;\n",
              "    }\n",
              "\n",
              "    .dataframe tbody tr th {\n",
              "        vertical-align: top;\n",
              "    }\n",
              "\n",
              "    .dataframe thead th {\n",
              "        text-align: right;\n",
              "    }\n",
              "</style>\n",
              "<table border=\"1\" class=\"dataframe\">\n",
              "  <thead>\n",
              "    <tr style=\"text-align: right;\">\n",
              "      <th></th>\n",
              "      <th>true</th>\n",
              "      <th>fake</th>\n",
              "    </tr>\n",
              "    <tr>\n",
              "      <th>token</th>\n",
              "      <th></th>\n",
              "      <th></th>\n",
              "    </tr>\n",
              "  </thead>\n",
              "  <tbody>\n",
              "    <tr>\n",
              "      <th>america</th>\n",
              "      <td>128.870719</td>\n",
              "      <td>139.126799</td>\n",
              "    </tr>\n",
              "    <tr>\n",
              "      <th>american</th>\n",
              "      <td>68.612376</td>\n",
              "      <td>66.956614</td>\n",
              "    </tr>\n",
              "    <tr>\n",
              "      <th>americans</th>\n",
              "      <td>51.844322</td>\n",
              "      <td>80.164975</td>\n",
              "    </tr>\n",
              "    <tr>\n",
              "      <th>amp</th>\n",
              "      <td>264.196451</td>\n",
              "      <td>146.437197</td>\n",
              "    </tr>\n",
              "    <tr>\n",
              "      <th>back</th>\n",
              "      <td>54.248469</td>\n",
              "      <td>26.539833</td>\n",
              "    </tr>\n",
              "  </tbody>\n",
              "</table>\n",
              "</div>"
            ],
            "text/plain": [
              "                 true        fake\n",
              "token                            \n",
              "america    128.870719  139.126799\n",
              "american    68.612376   66.956614\n",
              "americans   51.844322   80.164975\n",
              "amp        264.196451  146.437197\n",
              "back        54.248469   26.539833"
            ]
          },
          "metadata": {
            "tags": []
          },
          "execution_count": 96
        }
      ]
    },
    {
      "cell_type": "code",
      "metadata": {
        "id": "8Nve7-GANA1l"
      },
      "source": [
        "# add 1 to true and fake counts to avoid dividing by 0\n",
        "tokens['true'] = tokens.true + 1\n",
        "tokens['fake'] = tokens.fake + 1"
      ],
      "execution_count": null,
      "outputs": []
    },
    {
      "cell_type": "code",
      "metadata": {
        "id": "w3pCFLdoNB9z"
      },
      "source": [
        "# convert the true and fake counts into frequencies\n",
        "tokens['true'] = tokens.true / nb.class_count_[0]\n",
        "tokens['fake'] = tokens.fake / nb.class_count_[1]"
      ],
      "execution_count": null,
      "outputs": []
    },
    {
      "cell_type": "code",
      "metadata": {
        "colab": {
          "base_uri": "https://localhost:8080/",
          "height": 390
        },
        "id": "idoQ0ufeNDOt",
        "outputId": "4a9e7eb7-3819-43ba-a00d-4dea388a6aeb"
      },
      "source": [
        "# calculate the ratio of fake to true for each token\n",
        "tokens['fake/true ratio'] = tokens.fake / tokens.true\n",
        "tokens.sort_values('fake/true ratio', ascending=False).head(10)"
      ],
      "execution_count": null,
      "outputs": [
        {
          "output_type": "execute_result",
          "data": {
            "text/html": [
              "<div>\n",
              "<style scoped>\n",
              "    .dataframe tbody tr th:only-of-type {\n",
              "        vertical-align: middle;\n",
              "    }\n",
              "\n",
              "    .dataframe tbody tr th {\n",
              "        vertical-align: top;\n",
              "    }\n",
              "\n",
              "    .dataframe thead th {\n",
              "        text-align: right;\n",
              "    }\n",
              "</style>\n",
              "<table border=\"1\" class=\"dataframe\">\n",
              "  <thead>\n",
              "    <tr style=\"text-align: right;\">\n",
              "      <th></th>\n",
              "      <th>true</th>\n",
              "      <th>fake</th>\n",
              "      <th>fake/true ratio</th>\n",
              "    </tr>\n",
              "    <tr>\n",
              "      <th>token</th>\n",
              "      <th></th>\n",
              "      <th></th>\n",
              "      <th></th>\n",
              "    </tr>\n",
              "  </thead>\n",
              "  <tbody>\n",
              "    <tr>\n",
              "      <th>everyone</th>\n",
              "      <td>0.003761</td>\n",
              "      <td>0.016271</td>\n",
              "      <td>4.326051</td>\n",
              "    </tr>\n",
              "    <tr>\n",
              "      <th>breaking</th>\n",
              "      <td>0.007021</td>\n",
              "      <td>0.022992</td>\n",
              "      <td>3.274592</td>\n",
              "    </tr>\n",
              "    <tr>\n",
              "      <th>hillary</th>\n",
              "      <td>0.013917</td>\n",
              "      <td>0.041474</td>\n",
              "      <td>2.980158</td>\n",
              "    </tr>\n",
              "    <tr>\n",
              "      <th>media</th>\n",
              "      <td>0.008908</td>\n",
              "      <td>0.023719</td>\n",
              "      <td>2.662538</td>\n",
              "    </tr>\n",
              "    <tr>\n",
              "      <th>obama</th>\n",
              "      <td>0.010451</td>\n",
              "      <td>0.024911</td>\n",
              "      <td>2.383671</td>\n",
              "    </tr>\n",
              "    <tr>\n",
              "      <th>que</th>\n",
              "      <td>0.005987</td>\n",
              "      <td>0.013741</td>\n",
              "      <td>2.295143</td>\n",
              "    </tr>\n",
              "    <tr>\n",
              "      <th>la</th>\n",
              "      <td>0.005894</td>\n",
              "      <td>0.013489</td>\n",
              "      <td>2.288333</td>\n",
              "    </tr>\n",
              "    <tr>\n",
              "      <th>wins</th>\n",
              "      <td>0.007150</td>\n",
              "      <td>0.015262</td>\n",
              "      <td>2.134570</td>\n",
              "    </tr>\n",
              "    <tr>\n",
              "      <th>right</th>\n",
              "      <td>0.010925</td>\n",
              "      <td>0.023029</td>\n",
              "      <td>2.107848</td>\n",
              "    </tr>\n",
              "    <tr>\n",
              "      <th>twitter</th>\n",
              "      <td>0.006139</td>\n",
              "      <td>0.012766</td>\n",
              "      <td>2.079522</td>\n",
              "    </tr>\n",
              "  </tbody>\n",
              "</table>\n",
              "</div>"
            ],
            "text/plain": [
              "              true      fake  fake/true ratio\n",
              "token                                        \n",
              "everyone  0.003761  0.016271         4.326051\n",
              "breaking  0.007021  0.022992         3.274592\n",
              "hillary   0.013917  0.041474         2.980158\n",
              "media     0.008908  0.023719         2.662538\n",
              "obama     0.010451  0.024911         2.383671\n",
              "que       0.005987  0.013741         2.295143\n",
              "la        0.005894  0.013489         2.288333\n",
              "wins      0.007150  0.015262         2.134570\n",
              "right     0.010925  0.023029         2.107848\n",
              "twitter   0.006139  0.012766         2.079522"
            ]
          },
          "metadata": {
            "tags": []
          },
          "execution_count": 99
        }
      ]
    },
    {
      "cell_type": "markdown",
      "metadata": {
        "id": "7i5-kUZUHiLP"
      },
      "source": [
        "### Random Forest"
      ]
    },
    {
      "cell_type": "code",
      "metadata": {
        "id": "pU7MSvjxOzFA"
      },
      "source": [
        "from sklearn.ensemble import RandomForestClassifier\n",
        "rf = RandomForestClassifier(random_state = 1, max_depth = 420, n_estimators = 100)\n",
        "rf.fit(x_train_new, y_train_new)\n",
        "y_pred = rf.predict(x_test_new)"
      ],
      "execution_count": null,
      "outputs": []
    },
    {
      "cell_type": "code",
      "metadata": {
        "colab": {
          "base_uri": "https://localhost:8080/"
        },
        "id": "Kk0V3nM-PV6o",
        "outputId": "56c4e226-ce93-446f-9f0e-15fdf1a63efe"
      },
      "source": [
        "print(\"Accuracy is:\", metrics.accuracy_score(y_test_new, y_pred))\n",
        "print(\"Mean Squared Error is:\", np.sqrt(mean_squared_error(y_test_new, y_pred)))"
      ],
      "execution_count": null,
      "outputs": [
        {
          "output_type": "stream",
          "text": [
            "Accuracy is: 0.581353919239905\n",
            "Mean Squared Error is: 0.6470286552851389\n"
          ],
          "name": "stdout"
        }
      ]
    },
    {
      "cell_type": "code",
      "metadata": {
        "colab": {
          "base_uri": "https://localhost:8080/"
        },
        "id": "FEoBgFrWPaPo",
        "outputId": "54c52d4a-a3b5-43c3-8f11-3ad7c492e3ec"
      },
      "source": [
        "rf_cm = metrics.confusion_matrix(y_test, y_pred)\n",
        "print(rf_cm)"
      ],
      "execution_count": null,
      "outputs": [
        {
          "output_type": "stream",
          "text": [
            "[[782 511]\n",
            " [194 197]]\n"
          ],
          "name": "stdout"
        }
      ]
    },
    {
      "cell_type": "code",
      "metadata": {
        "colab": {
          "base_uri": "https://localhost:8080/",
          "height": 265
        },
        "id": "15023YFKPfBl",
        "outputId": "a9b37d0a-bf38-4b28-c900-bde0a96f15a6"
      },
      "source": [
        "labels = np.array([['782','511'],['194','197']])\n",
        "sns.heatmap(rf_cm, annot=labels, fmt = '')\n",
        "plt.show()"
      ],
      "execution_count": null,
      "outputs": [
        {
          "output_type": "display_data",
          "data": {
            "image/png": "[encoded data removed]",
            "text/plain": [
              "<Figure size 432x288 with 2 Axes>"
            ]
          },
          "metadata": {
            "tags": [],
            "needs_background": "light"
          }
        }
      ]
    },
    {
      "cell_type": "code",
      "metadata": {
        "colab": {
          "base_uri": "https://localhost:8080/",
          "height": 282
        },
        "id": "7Wq0L7WOP2Vq",
        "outputId": "6cafd420-ffcb-49b1-867a-f32bc0bf9d33"
      },
      "source": [
        "feature_importances = pd.Series(rf.feature_importances_, index=feature_names_train)\n",
        "feature_importances.nlargest(10).plot(kind='barh')"
      ],
      "execution_count": null,
      "outputs": [
        {
          "output_type": "execute_result",
          "data": {
            "text/plain": [
              "<matplotlib.axes._subplots.AxesSubplot at 0x7f90b92d71d0>"
            ]
          },
          "metadata": {
            "tags": []
          },
          "execution_count": 104
        },
        {
          "output_type": "display_data",
          "data": {
            "image/png": "[encoded data removed]",
            "text/plain": [
              "<Figure size 432x288 with 1 Axes>"
            ]
          },
          "metadata": {
            "tags": [],
            "needs_background": "light"
          }
        }
      ]
    }
  ]
}